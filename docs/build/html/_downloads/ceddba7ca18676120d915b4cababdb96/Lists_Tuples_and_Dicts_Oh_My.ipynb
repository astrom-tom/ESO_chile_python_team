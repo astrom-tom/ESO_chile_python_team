{
 "cells": [
  {
   "cell_type": "markdown",
   "metadata": {},
   "source": [
    "An ipython tutorial to get you started on python's default datastructures: lists, tuples, and dictionaries.\n",
    "\n",
    "Author: Trystyn Berg\n",
    "email: tberg@eso.org"
   ]
  },
  {
   "cell_type": "markdown",
   "metadata": {},
   "source": [
    "What is a python list?\n",
    "\n",
    "-A very flexible container in python.\n",
    "\n",
    "-Can store any variable in a list. This includes: strings, ints, floats, bools, lists, tuples,... objects\n",
    "\n",
    "-Can be a mix of types of variables (can store both an int and a string in the same list)\n",
    "\n",
    "-Mutable container (i.e. can change its contents)"
   ]
  },
  {
   "cell_type": "code",
   "execution_count": 1,
   "metadata": {},
   "outputs": [
    {
     "name": "stdout",
     "output_type": "stream",
     "text": [
      "[1, 2, 3, 4, 5]\n"
     ]
    }
   ],
   "source": [
    "#Simple syntax\n",
    "\n",
    "#TO define a list manually, place the comma-separated contents between [ and ]\n",
    "#FOr example, lets' do all integers 1 through 6\n",
    "list1 = [1, 2, 3, 4, 5]\n",
    "print(list1)"
   ]
  },
  {
   "cell_type": "code",
   "execution_count": 2,
   "metadata": {},
   "outputs": [
    {
     "name": "stdout",
     "output_type": "stream",
     "text": [
      "List1 after appending 6: [1, 2, 3, 4, 5, 6]\n"
     ]
    }
   ],
   "source": [
    "#Damn, I just realised I forgot to add 6 to list1. I can do this by appending to the list\n",
    "#list.append(val) works by appending the new value val to the end of the list\n",
    "list1.append(6)\n",
    "print(\"List1 after appending 6:\",list1)"
   ]
  },
  {
   "cell_type": "code",
   "execution_count": 3,
   "metadata": {},
   "outputs": [
    {
     "name": "stdout",
     "output_type": "stream",
     "text": [
      "The value at index 3 is: 4\n"
     ]
    }
   ],
   "source": [
    "#If you want the value(s) from given index (or indicies), you can access them\n",
    "#in the following syntax: value = list[index]\n",
    "\n",
    "#Let's get the value of index 3\n",
    "v3 = list1[3]\n",
    "print(\"The value at index 3 is:\", v3)\n",
    "\n",
    "#Note that the first index of a list (or any data structure) in python is index 0!"
   ]
  },
  {
   "cell_type": "code",
   "execution_count": 4,
   "metadata": {},
   "outputs": [
    {
     "name": "stdout",
     "output_type": "stream",
     "text": [
      "The value at the last index is: 6\n"
     ]
    }
   ],
   "source": [
    "#If you want to get the last value of the list,you can use -1 as the index\n",
    "vlast = list1[-1]\n",
    "print(\"The value at the last index is:\", vlast)"
   ]
  },
  {
   "cell_type": "code",
   "execution_count": 5,
   "metadata": {},
   "outputs": [
    {
     "name": "stdout",
     "output_type": "stream",
     "text": [
      "Indicies 1-3 are: [2, 3]\n",
      "Indicies 0-2 are: [1, 2, 3]\n",
      "All but first two indices: [3, 4, 5, 6]\n",
      "All but last two indicies: [1, 2, 3, 4]\n",
      "All indicies: [1, 2, 3, 4, 5, 6]\n",
      "\tand is identical to just the list: [1, 2, 3, 4, 5, 6]\n",
      "Every second index from index 1: [2, 4]\n"
     ]
    }
   ],
   "source": [
    "#If you want to get a list of value of a certain slice, you can use ':' to get a slice\n",
    "#Some examples:\n",
    "\n",
    "#Get indcies 1 through 3\n",
    "#Syntax is list[startind:endind]\n",
    "vslice = list1[1:3] \n",
    "print(\"Indicies 1-3 are:\", vslice)\n",
    "#Note that the last index 3 (or the endind) is ignored...\n",
    "\n",
    "#Get first 3 indicies\n",
    "vslice = list1[:3]\n",
    "print(\"Indicies 0-2 are:\", vslice)\n",
    "\n",
    "#Get all but the first two indicies\n",
    "vslice = list1[2:]\n",
    "print(\"All but first two indices:\", vslice)\n",
    "\n",
    "#Get all but the last two indicies of the list\n",
    "vslice = list1[:-2]\n",
    "print(\"All but last two indicies:\", vslice)\n",
    "\n",
    "#Get all elements of the list\n",
    "vall = list1[:]\n",
    "print(\"All indicies:\", vall)\n",
    "#Yes, this is identical to\n",
    "print(\"\\tand is identical to just the list:\", list1)\n",
    "\n",
    "#Get every second element of the list, starting from index 1\n",
    "viter = list1[1:-1:2] #syntax is list[startind:endind:stepsize]\n",
    "print(\"Every second index from index 1:\", viter)\n"
   ]
  },
  {
   "cell_type": "code",
   "execution_count": 7,
   "metadata": {},
   "outputs": [
    {
     "name": "stdout",
     "output_type": "stream",
     "text": [
      "The length of my list is: 6\n"
     ]
    }
   ],
   "source": [
    "#The length of a list (i.e. number of elements within the list) can be obtained using the len() function\n",
    "listlen = len(list1)\n",
    "print(\"The length of my list is:\",listlen)"
   ]
  },
  {
   "cell_type": "code",
   "execution_count": 9,
   "metadata": {},
   "outputs": [
    {
     "name": "stdout",
     "output_type": "stream",
     "text": [
      "Lists a and b concatenated to list ab: [1, 2, 3, 4, 5, 6]\n",
      "List a has been extended to include list b: [1, 2, 3, 4, 5, 6]\n"
     ]
    }
   ],
   "source": [
    "#You can also concatenate two or more lists together using the + operator on two lists\n",
    "a = [1, 2, 3]\n",
    "b = [4, 5, 6]\n",
    "ab = a + b\n",
    "print('Lists a and b concatenated to list ab:', ab)\n",
    "\n",
    "#You can also use the list.extend method to do the same thing!\n",
    "#The syntax is list1.extend(list2)\n",
    "a.extend(b)\n",
    "print('List a has been extended to include list b:', a)\n",
    "\n",
    "#Note that by using a+b, the original list a is conserved in memory\n",
    "#while using .extend, a is updated to have more elements."
   ]
  },
  {
   "cell_type": "code",
   "execution_count": 84,
   "metadata": {},
   "outputs": [
    {
     "data": {
      "text/plain": [
       "'\\nEXERCISE ONE:\\nAdd all intergers between 1 and 10 to list1\\nby ONLY using append for each integer\\n'"
      ]
     },
     "execution_count": 84,
     "metadata": {},
     "output_type": "execute_result"
    }
   ],
   "source": [
    "'''\n",
    "EXERCISE ONE:\n",
    "Add the intergers between 1 and 10 (in descending order; 10, 9, 8...) to the end of list1\n",
    "by ONLY using append for each integer\n",
    "'''\n",
    "\n",
    "\n",
    "\n",
    "\n",
    "\n",
    "\n"
   ]
  },
  {
   "cell_type": "code",
   "execution_count": 10,
   "metadata": {},
   "outputs": [
    {
     "name": "stdout",
     "output_type": "stream",
     "text": [
      "Something is wrong with your code or running steps in order. Please try again.\n",
      "Your list1: [1, 2, 3, 4, 5, 6]\n"
     ]
    }
   ],
   "source": [
    "#Exercise evaluation!\n",
    "evaluation = (list1 == [1, 2, 3, 4, 5, 6, 10, 9, 8, 7, 6, 5, 4, 3, 2, 1])\n",
    "if evaluation: print(\"Congrats, you successfully completed the exercise!\")\n",
    "else: print(\"Something is wrong with your code or running steps in order. Please try again.\\nYour list1:\", list1)"
   ]
  },
  {
   "cell_type": "code",
   "execution_count": 12,
   "metadata": {},
   "outputs": [
    {
     "name": "stdout",
     "output_type": "stream",
     "text": [
      "Before popping: [3, 1, 4, 1, 5, 9]\n",
      "After popping: [1, 4, 1, 5, 9]\n"
     ]
    }
   ],
   "source": [
    "#TO remove an index, you can use the .pop() attribute of a list!\n",
    "#list.pop(ind) will remove the element in the list at index ind.\n",
    "#Note that python counts from the zeroth index, so the first element in a list is at index 0.\n",
    "pilist = [3, 1, 4, 1, 5, 9]\n",
    "\n",
    "#Let's remove the 3 (at the 0th-index)\n",
    "print(\"Before popping:\",pilist)\n",
    "pilist.pop(0)\n",
    "print(\"After popping:\",pilist)"
   ]
  },
  {
   "cell_type": "code",
   "execution_count": 13,
   "metadata": {},
   "outputs": [
    {
     "name": "stdout",
     "output_type": "stream",
     "text": [
      "After inserting: [3, 1, 4, 1, 5, 9]\n"
     ]
    }
   ],
   "source": [
    "#Now, let's put that 3 back. If we use append, it will go at the end of the list.\n",
    "#Let's use insert, which inserts a value at a given index\n",
    "#syntax:list.insert(index_to_insert, value_to_insert)\n",
    "pilist.insert(0, 3)\n",
    "print(\"After inserting:\",pilist)"
   ]
  },
  {
   "cell_type": "code",
   "execution_count": 16,
   "metadata": {},
   "outputs": [
    {
     "name": "stdout",
     "output_type": "stream",
     "text": [
      "There are 0 0s in pilist\n",
      "There are 2 1s in pilist\n",
      "There are 0 2s in pilist\n",
      "There are 1 3s in pilist\n",
      "There are 1 4s in pilist\n",
      "There are 1 5s in pilist\n",
      "There are 0 6s in pilist\n",
      "There are 0 7s in pilist\n",
      "There are 0 8s in pilist\n",
      "There are 1 9s in pilist\n"
     ]
    }
   ],
   "source": [
    "#We can also count the number of times a value is repeated,\n",
    "\n",
    "#To find the counts of a given value, use:\n",
    "#list.count(value)\n",
    "\n",
    "#For example, how many 1s are there in pilist?\n",
    "pilist.count(1)\n",
    "\n",
    "#How many of each integer 0-9?\n",
    "#Loop through the range of integers\n",
    "#Note, we can use range(N) to loop through all integers from 0 to N (exclusive)\n",
    "for ii in range(10):\n",
    "    numint = pilist.count(ii)#Number of times integer ap[pears]\n",
    "    print(\"There are %.0f %.0fs in pilist\"%(numint, ii))\n",
    "    \n"
   ]
  },
  {
   "cell_type": "code",
   "execution_count": 17,
   "metadata": {},
   "outputs": [
    {
     "name": "stdout",
     "output_type": "stream",
     "text": [
      "The first 1 is at index: 1\n"
     ]
    }
   ],
   "source": [
    "#We can determine the LOWEST index of a list which has a certain value\n",
    "#To do this, the syntax is\n",
    "#myindex = list.index(value)\n",
    "\n",
    "#FOr example, let's find where the value 1 is in pilist\n",
    "myindex = pilist.index(1)\n",
    "print(\"The first 1 is at index:\",myindex)\n"
   ]
  },
  {
   "cell_type": "code",
   "execution_count": 76,
   "metadata": {},
   "outputs": [],
   "source": [
    "'''\n",
    "EXERCISE TWO\n",
    "Take list1 and remove the first occurence\n",
    "of all repeated entries using a for loop!\n",
    "'''\n",
    "\n"
   ]
  },
  {
   "cell_type": "code",
   "execution_count": 77,
   "metadata": {},
   "outputs": [
    {
     "name": "stdout",
     "output_type": "stream",
     "text": [
      "Congrats, you successfully completed the exercise!\n"
     ]
    }
   ],
   "source": [
    "#Exercise two evaluation!\n",
    "evaluation = list1 == [10, 9, 8, 7, 6, 5, 4, 3, 2, 1]\n",
    "if evaluation: print(\"Congrats, you successfully completed the exercise!\")\n",
    "else: print(\"Something is wrong with your code or running steps above in order. Please try again.\\nYour list1:\", list1)"
   ]
  },
  {
   "cell_type": "code",
   "execution_count": 19,
   "metadata": {},
   "outputs": [
    {
     "name": "stdout",
     "output_type": "stream",
     "text": [
      "a: [22, 6, 7, 8, 9]\n",
      "b: [22, 6, 7, 8, 9]\n"
     ]
    }
   ],
   "source": [
    "#A memory feature of lists:\n",
    "#Imagine I want to make two lists, a and b, where they have the same contents\n",
    "#except the first index is different in list b.\n",
    "\n",
    "#You may naively write:\n",
    "a = [1,2,3,4,5]\n",
    "b = [5,6,7,8,9]\n",
    "a = b\n",
    "b[0] = 22\n",
    "print('a:', a)\n",
    "print('b:', b)\n"
   ]
  },
  {
   "cell_type": "code",
   "execution_count": 5,
   "metadata": {},
   "outputs": [
    {
     "name": "stdout",
     "output_type": "stream",
     "text": [
      "a: [1, 2, 3, 4, 5]\n",
      "b: [22, 2, 3, 4, 5]\n",
      "a and b are no longer the same!\n",
      "\n"
     ]
    }
   ],
   "source": [
    "#Feck, a and b are now the same!\n",
    "\n",
    "#Lists effectively work as pointers to where its contents are stored in memory!\n",
    "#So by saying a=b, you are just copying the pointers to the same slot in memory.\n",
    "#You can truly copy a list using the following \n",
    "a = [1,2,3,4,5]\n",
    "b = [5,6,7,8,9]\n",
    "b=a.copy()\n",
    "b[0]=22\n",
    "print('a:',a)\n",
    "print('b:',b)\n",
    "print('a and b are no longer the same!\\n')"
   ]
  },
  {
   "cell_type": "code",
   "execution_count": 16,
   "metadata": {},
   "outputs": [
    {
     "name": "stdout",
     "output_type": "stream",
     "text": [
      "a: [1, 2, 3]\n",
      "c: [23, 2, 3]\n",
      "a and c are also not the same!\n"
     ]
    }
   ],
   "source": [
    "#Alternatively to list.copy(), you can play a trick by just taking a subset of all indicies\n",
    "#using the ':' slice notation to represent the index you want\n",
    "\n",
    "c=a[:] #get all indicies of a and store in c\n",
    "c[0]=23\n",
    "print('a:', a)\n",
    "print('c:', c)\n",
    "print('a and c are also not the same!')"
   ]
  },
  {
   "cell_type": "code",
   "execution_count": 20,
   "metadata": {},
   "outputs": [
    {
     "name": "stdout",
     "output_type": "stream",
     "text": [
      "My new list: [7, 3, 9, 5, 2, 7, 3, 5, 1, 8]\n",
      "\n",
      "Checking if a value is in a list:\n",
      "Is 10 in my list? False\n",
      "Is 8 in my list? True\n",
      "Mylist has a 10.\n",
      "\n",
      "Looping over values:\n",
      "\t 7\n",
      "\t 3\n",
      "\t 9\n",
      "\t 5\n",
      "\t 2\n",
      "\t 7\n",
      "\t 3\n",
      "\t 5\n",
      "\t 1\n",
      "\t 8\n",
      "\n",
      "Looping over indicies AND values:\n",
      "\t index 0: 7\n",
      "\t index 1: 3\n",
      "\t index 2: 9\n",
      "\t index 3: 5\n",
      "\t index 4: 2\n",
      "\t index 5: 7\n",
      "\t index 6: 3\n",
      "\t index 7: 5\n",
      "\t index 8: 1\n",
      "\t index 9: 8\n",
      "Reverse [8, 1, 5, 3, 7, 2, 5, 9, 3, 7]\n",
      "Reverse the reverse with slicing: [7, 3, 9, 5, 2, 7, 3, 5, 1, 8]\n",
      "\n",
      "Sorted (ascending) [1, 2, 3, 3, 5, 5, 7, 7, 8, 9]\n"
     ]
    }
   ],
   "source": [
    "#Some other odds and ends for those interested:\n",
    "\n",
    "mylist=[7,3,9,5,2,7,3,5,1,8]\n",
    "\n",
    "print(\"My new list:\", mylist)\n",
    "\n",
    "print(\"\\nChecking if a value is in a list:\")\n",
    "#The syntax is value in list, which will create a boolean (True/False)\n",
    "mybool = 10 in mylist\n",
    "print(\"Is 10 in my list?\", mybool)\n",
    "mybool2 = 8 in mylist\n",
    "print(\"Is 8 in my list?\", mybool2)\n",
    "#Or with if/else:\n",
    "if 10 in mylist:\n",
    "    print(\"Mylist doesn't have a 10.\")\n",
    "else:\n",
    "    print(\"Mylist has a 10.\")\n",
    "\n",
    "\n",
    "print(\"\\nLooping over values:\")\n",
    "#Loop through values using a for loop:\n",
    "for value in mylist:\n",
    "    print('\\t',value)\n",
    "    \n",
    "#Loop through both indicies and values using a for loop:\n",
    "print(\"\\nLooping over indicies AND values:\")\n",
    "for index, value in enumerate(mylist):\n",
    "    print('\\t index %.0f:'%index, value)\n",
    "\n",
    "    \n",
    "#Reverse list\n",
    "mylist.reverse()\n",
    "print(\"Reverse\", mylist)\n",
    "#This can also be accomplished with slicing\n",
    "#The syntax is list[::-1], where -1 here operates as going back 1 index from the first index\n",
    "print(\"Reverse the reverse with slicing:\", mylist[::-1])\n",
    "    \n",
    "#You can sort a list\n",
    "mylist.sort()\n",
    "print(\"\\nSorted (ascending)\", mylist)\n",
    "\n",
    "\n"
   ]
  },
  {
   "cell_type": "markdown",
   "metadata": {},
   "source": [
    "An aside: lists vs arrays in python\n",
    "\n",
    "Despite the similar syntax, lists in python are NOT arrays. To make an array, you need to use the numpy package. Numpy arrays are much more efficient than lists for operations. For example, if you want to multiply every element in a list or array by 2:\n",
    "\n",
    "-For a list, you would need to write for ind in range(len(mylist)): mylist[ind] = mylist[ind]*2\n",
    "-For an numpy array, you would write myarray = myarray*2\n",
    "\n",
    "The python interpret will still use a for-loop for the array operation, but it is stored much more efficiently than a list.\n",
    "\n",
    "You can akways convert a list to a numpy array as:\n",
    "import numpy\n",
    "\n",
    "myarray = numpy.array(mylist)\n",
    "\n",
    "Note that although lists can contain any combination of types (strings, ints, floats, bools, objects) within the same list, numpy array must contain the same variable type and cannot include objects."
   ]
  },
  {
   "cell_type": "markdown",
   "metadata": {},
   "source": [
    "What about python tuples?\n",
    "\n",
    "-Immutable containers (once made, you cannot change them!)\n",
    "-As a result, tuples operations are faster than lists as they are fixed in memory!\n"
   ]
  },
  {
   "cell_type": "code",
   "execution_count": 22,
   "metadata": {},
   "outputs": [
    {
     "name": "stdout",
     "output_type": "stream",
     "text": [
      "The value at index 3 is: 4\n",
      "The value at the last index is: 4\n",
      "Indicies 1-2 are: (2, 3)\n",
      "Indicies 0-2 are: (1, 2, 3)\n",
      "All but last index: (1, 2, 3, 4, 5, 6, 5, 4, 3, 2, 3, 4, 5, 4, 3)\n",
      "All but last two indicies: (1, 2, 3, 4, 5, 6, 5, 4, 3, 2, 3, 4, 5, 4)\n",
      "The length of my tuple is: 16\n"
     ]
    }
   ],
   "source": [
    "#The syntax for defining a tuple is similar to a list, except you use () rather than []\n",
    "\n",
    "tuple1 = (1, 2, 3, 4, 5, 6, 5, 4, 3, 2 , 3, 4, 5, 4, 3, 4)\n",
    "\n",
    "#You can access any element of a tuple just like a list!\n",
    "#Let's get the value of index 3\n",
    "v3 =  tuple1[3]\n",
    "print(\"The value at index 3 is:\", v3)\n",
    "\n",
    "vlast = tuple1[-1]\n",
    "print(\"The value at the last index is:\", vlast)\n",
    "\n",
    "vslice = tuple1[1:3]\n",
    "print(\"Indicies 1-2 are:\", vslice)\n",
    "\n",
    "vslice = tuple1[:3]\n",
    "print(\"Indicies 0-2 are:\", vslice)\n",
    "\n",
    "#Get all but the last index of the tuple\n",
    "vslice = tuple1[:-1]\n",
    "print(\"All but last index:\", vslice)\n",
    "\n",
    "#Get all but the last two indicies of the tuple\n",
    "vslice = tuple1[:-2]\n",
    "print(\"All but last two indicies:\", vslice)\n",
    "\n",
    "#THe length of a tuple can be obtained using the len() function\n",
    "tuplelen = len(tuple1)\n",
    "print(\"The length of my tuple is:\",tuplelen)"
   ]
  },
  {
   "cell_type": "code",
   "execution_count": 23,
   "metadata": {},
   "outputs": [
    {
     "name": "stdout",
     "output_type": "stream",
     "text": [
      "How many 3's in tuple1: 4\n",
      "The first index of tuple1 containing a 6 is: 5\n"
     ]
    }
   ],
   "source": [
    "#You can also use tuple.index() and tuple.count() just like lists!\n",
    "print(\"How many 3's in tuple1:\", tuple1.count(3))\n",
    "print(\"The first index of tuple1 containing a 6 is:\", tuple1.index(6))"
   ]
  },
  {
   "cell_type": "code",
   "execution_count": 24,
   "metadata": {},
   "outputs": [
    {
     "name": "stdout",
     "output_type": "stream",
     "text": [
      "Looping over values:\n",
      "\t 1\n",
      "\t 2\n",
      "\t 3\n",
      "\t 4\n",
      "\t 5\n",
      "\t 6\n",
      "\t 5\n",
      "\t 4\n",
      "\t 3\n",
      "\t 2\n",
      "\t 3\n",
      "\t 4\n",
      "\t 5\n",
      "\t 4\n",
      "\t 3\n",
      "\t 4\n"
     ]
    }
   ],
   "source": [
    "#Looping over indicies and values is just easy!\n",
    "print(\"Looping over values:\")\n",
    "#Loop through values using a for loop:\n",
    "for value in tuple1:\n",
    "    print('\\t',value)"
   ]
  },
  {
   "cell_type": "code",
   "execution_count": 25,
   "metadata": {},
   "outputs": [
    {
     "name": "stdout",
     "output_type": "stream",
     "text": [
      "Looping over indicies AND values:\n",
      "\t index 0: 1\n",
      "\t index 1: 2\n",
      "\t index 2: 3\n",
      "\t index 3: 4\n",
      "\t index 4: 5\n",
      "\t index 5: 6\n",
      "\t index 6: 5\n",
      "\t index 7: 4\n",
      "\t index 8: 3\n",
      "\t index 9: 2\n",
      "\t index 10: 3\n",
      "\t index 11: 4\n",
      "\t index 12: 5\n",
      "\t index 13: 4\n",
      "\t index 14: 3\n",
      "\t index 15: 4\n"
     ]
    }
   ],
   "source": [
    "#Loop through both indicies and values using a for loop:\n",
    "print(\"Looping over indicies AND values:\")\n",
    "for index, value in enumerate(tuple1):\n",
    "    print('\\t index %.0f:'%index, value)"
   ]
  },
  {
   "cell_type": "code",
   "execution_count": 26,
   "metadata": {},
   "outputs": [
    {
     "name": "stdout",
     "output_type": "stream",
     "text": [
      "You will now get a TypeError complaining that you cannot reassign a value to a tuple\n"
     ]
    },
    {
     "ename": "TypeError",
     "evalue": "'tuple' object does not support item assignment",
     "output_type": "error",
     "traceback": [
      "\u001b[0;31m---------------------------------------------------------------------------\u001b[0m",
      "\u001b[0;31mTypeError\u001b[0m                                 Traceback (most recent call last)",
      "\u001b[0;32m<ipython-input-26-62f91b77d3d8>\u001b[0m in \u001b[0;36m<module>\u001b[0;34m\u001b[0m\n\u001b[1;32m      2\u001b[0m \u001b[0;34m\u001b[0m\u001b[0m\n\u001b[1;32m      3\u001b[0m \u001b[0mprint\u001b[0m\u001b[0;34m(\u001b[0m\u001b[0;34m\"You will now get a TypeError complaining that you cannot reassign a value to a tuple\"\u001b[0m\u001b[0;34m)\u001b[0m\u001b[0;34m\u001b[0m\u001b[0;34m\u001b[0m\u001b[0m\n\u001b[0;32m----> 4\u001b[0;31m \u001b[0mtuple1\u001b[0m\u001b[0;34m[\u001b[0m\u001b[0;36m0\u001b[0m\u001b[0;34m]\u001b[0m \u001b[0;34m=\u001b[0m \u001b[0;36m5\u001b[0m\u001b[0;34m\u001b[0m\u001b[0;34m\u001b[0m\u001b[0m\n\u001b[0m",
      "\u001b[0;31mTypeError\u001b[0m: 'tuple' object does not support item assignment"
     ]
    }
   ],
   "source": [
    "#Where a tuple differs is that you cannot edit the elements of the tuple\n",
    "\n",
    "print(\"You will now get a TypeError complaining that you cannot reassign a value to a tuple\")\n",
    "tuple1[0] = 5\n"
   ]
  },
  {
   "cell_type": "code",
   "execution_count": 29,
   "metadata": {},
   "outputs": [
    {
     "name": "stdout",
     "output_type": "stream",
     "text": [
      "tuple2 before: (1, 2)\n",
      "tuple2 after: (1, 2, 3)\n"
     ]
    }
   ],
   "source": [
    "#If you need to edit a tuple, you have to 'cheat' the system by redefining the tuple!\n",
    "\n",
    "tuple2 = (1, 2)\n",
    "print(\"tuple2 before:\", tuple2)\n",
    "\n",
    "#Add a 3 to the end of tuple2\n",
    "tuple2 = (tuple2[0], tuple2[1], 3)\n",
    "print(\"tuple2 after:\", tuple2)"
   ]
  },
  {
   "cell_type": "code",
   "execution_count": 30,
   "metadata": {},
   "outputs": [
    {
     "name": "stdout",
     "output_type": "stream",
     "text": [
      "tuple3 before: (1, 2)\n",
      "tuple3 after: (1, 2, 3)\n"
     ]
    }
   ],
   "source": [
    "#But that is a bit cumbersome, especially if you have many elements in the tuple\n",
    "#You can change between lists and tuples; this way you can use list operations!\n",
    "tuple3 = (1, 2)\n",
    "print(\"tuple3 before:\", tuple3)\n",
    "list3 = list(tuple3)\n",
    "list3.append(3)\n",
    "tuple3 = tuple(list3)\n",
    "print(\"tuple3 after:\", tuple3)"
   ]
  },
  {
   "cell_type": "code",
   "execution_count": 31,
   "metadata": {},
   "outputs": [
    {
     "data": {
      "text/plain": [
       "'\\nEXERCISE THREE:\\n-First, add the next three digits of pi to tuplepi\\n-Second, count the number of times the integers 0-9 appear in tuplepi\\n-Append the counts to predefined ncount list (in order of integers 0-9)\\n'"
      ]
     },
     "execution_count": 31,
     "metadata": {},
     "output_type": "execute_result"
    }
   ],
   "source": [
    "tuplepi = (3, 1, 4, 1, 5, 9)\n",
    "ncount = []\n",
    "'''\n",
    "EXERCISE THREE:\n",
    "-First, add the next three digits of pi to tuplepi\n",
    "-Second, count the number of times the integers 0-9 appear in tuplepi\n",
    "-Append the counts to predefined ncount list (in order of integers 0-9)\n",
    "'''\n"
   ]
  },
  {
   "cell_type": "code",
   "execution_count": 83,
   "metadata": {},
   "outputs": [
    {
     "name": "stdout",
     "output_type": "stream",
     "text": [
      "Congrats, you successfully completed the exercise!\n"
     ]
    }
   ],
   "source": [
    "#Exercise three evaluation!\n",
    "evaluation = (ncount == [0, 2, 1, 1, 1, 2, 1, 0, 0, 1]) * (tuplepi == (3, 1, 4, 1, 5, 9, 2, 6, 5))\n",
    "if evaluation: print(\"Congrats, you successfully completed the exercise!\")\n",
    "else: print(\"Something is wrong with your code. Please try again.\\nYour ncount:\", ncount,'\\nYour tuplepi:', tuplepi)"
   ]
  },
  {
   "cell_type": "markdown",
   "metadata": {},
   "source": [
    "Tuple vs list: why do tuples exist?\n",
    "\n",
    "Tuples are much faster for computers to read and use than lists, and are more memory efficient. However, they are less flexible than lists.\n",
    "\n",
    "When to use a tuple:\n",
    "-You are storing a container of variables that will not change (such as a set of constants)\n",
    "-You are creating a key for a dictionary (see below)\n",
    "\n",
    "When to use lists:\n",
    "-When you plan on modifying the contents of the container\n"
   ]
  },
  {
   "cell_type": "markdown",
   "metadata": {},
   "source": [
    "Dictionaries!\n",
    "\n",
    "Dictionaries are a hash structure in python. In other words, dictionaries associate a pointer (called a 'key'), which points to the associated 'value' in memory. This is allows dictionaries to be mutable (or flexible) in memory YET be faster to access as the values are stored all over memory (i.e. not stored in a sequence like a list). \n",
    "\n",
    "Dictionaries are great for creating databases/tables as well, making code a little easier to read and not having to keep track of indicies with a certain parameter."
   ]
  },
  {
   "cell_type": "code",
   "execution_count": 32,
   "metadata": {},
   "outputs": [],
   "source": [
    "#You can create an empty dictionary (abbreviated dic) as follows dic = {}\n",
    "#Here is my example dic\n",
    "dic = {}\n",
    "\n",
    "#To add an element to the dictionary, you need to 'key' the dictionary for that value (i.e. create the pointer).\n",
    "#This is done as dic[key] = value\n",
    "#For an example\n",
    "dic['My name'] = 'Father Dougal Maguire'\n",
    "dic['Number of fingers'] = 10\n",
    "dic['Favourite 3 Fruit'] = ['Apples', 'Bananas', 'Pears']\n",
    "\n",
    "\n",
    "#Note that I can store any type of variable (and even objects) to a dictionary; dictionaries don't discriminate"
   ]
  },
  {
   "cell_type": "code",
   "execution_count": 33,
   "metadata": {},
   "outputs": [
    {
     "name": "stdout",
     "output_type": "stream",
     "text": [
      "My name is Father Dougal Maguire, and I'm an eejit\n"
     ]
    }
   ],
   "source": [
    "#TO access a value from dic, the syntac is dic[keyname]\n",
    "name = dic['My name']\n",
    "print(\"My name is %s, and I'm an eejit.\"%name)"
   ]
  },
  {
   "cell_type": "code",
   "execution_count": 17,
   "metadata": {},
   "outputs": [
    {
     "name": "stdout",
     "output_type": "stream",
     "text": [
      "dic's keys: dict_keys(['My name', 'Number of fingers', 'Favourite 3 Fruit'])\n"
     ]
    }
   ],
   "source": [
    "#Let's say I forgot what keys are in my dictionary! I can access them as follows\n",
    "dickeys = dic.keys()\n",
    "print(\"dic's keys:\", dickeys)\n"
   ]
  },
  {
   "cell_type": "code",
   "execution_count": 34,
   "metadata": {},
   "outputs": [
    {
     "name": "stdout",
     "output_type": "stream",
     "text": [
      "\tdic's value for key = My name: Father Dougal Maguire\n",
      "\tdic's value for key = Number of fingers: 10\n",
      "\tdic's value for key = Favourite 3 Fruit: ['Apples', 'Bananas', 'Pears']\n"
     ]
    }
   ],
   "source": [
    "#I can also print the key/value in a for loop\n",
    "for key in dic.keys():\n",
    "    print(\"\\tdic's value for key = %s:\"%key, dic[key])"
   ]
  },
  {
   "cell_type": "code",
   "execution_count": 36,
   "metadata": {},
   "outputs": [
    {
     "name": "stdout",
     "output_type": "stream",
     "text": [
      "\tdic's value for key = My name: Father Dougal Maguire\n",
      "\tdic's value for key = Number of fingers: 10\n",
      "\tdic's value for key = Favourite 3 Fruit: ['Apples', 'Bananas', 'Pears']\n"
     ]
    }
   ],
   "source": [
    "#Altenatively, you can do the same thing with\n",
    "for key in dic:\n",
    "    print(\"\\tdic's value for key = %s:\"%key, dic[key])\n",
    "#But note that the behaviour here is different from lists:\n",
    "#\"key in dic\" gets the key!\n",
    "#\"val in list\" get the value!\n",
    "\n",
    "#To make sure it is clear in this exercise, we will continue to be explicit and use key in dic.keys()"
   ]
  },
  {
   "cell_type": "code",
   "execution_count": 37,
   "metadata": {},
   "outputs": [
    {
     "name": "stdout",
     "output_type": "stream",
     "text": [
      "\tdic2's value for key = Favourite 3 Fruit: ['Drink', 'Drink', 'Drink']\n",
      "\tdic2's value for key = My name: Father Jack\n"
     ]
    }
   ],
   "source": [
    "#You can also define a dictionary on the fly in a single line by writing key:value within the {},\n",
    "#making sure each key/value entry is comma-separated\n",
    "\n",
    "dic2={'Favourite 3 Fruit':['Drink', 'Drink', 'Drink'], 'My name': 'Father Jack'}\n",
    "#I can also print the key/value in a for loop\n",
    "for key in dic2.keys():\n",
    "    print(\"\\tdic2's value for key = %s:\"%key, dic2[key])"
   ]
  },
  {
   "cell_type": "code",
   "execution_count": 38,
   "metadata": {},
   "outputs": [
    {
     "name": "stdout",
     "output_type": "stream",
     "text": [
      "dic has key: My name\n",
      "dic has key: Favourite 3 Fruit\n",
      "dic has key: Number of fingers\n",
      "Feck! dic doesn't have key: IQ\n"
     ]
    }
   ],
   "source": [
    "#Lets say we have the following list of keys\n",
    "keylist = ['My name', 'Favourite 3 Fruit', 'Number of fingers', 'IQ']\n",
    "\n",
    "#You can check if every key in keylist is within the dictionary by using the following code\n",
    "for key in keylist:\n",
    "    #Is the key in the dictionary's keys?\n",
    "    if key in dic.keys():\n",
    "        print(\"dic has key: %s\"%key)\n",
    "    else:\n",
    "        print(\"Feck! dic doesn't have key: %s\"%key)\n"
   ]
  },
  {
   "cell_type": "code",
   "execution_count": 39,
   "metadata": {},
   "outputs": [],
   "source": [
    "#Tabular/database data are best stored in dictionaries. You can make one as follows for Star Trek TNG characters\n",
    "#Entries along a given 'row' may look like\n",
    "dicA = {'Name': 'Worf', 'Species':'I AM A KLINGON', 'Hair colour':'Black', 'Age':32, 'Height':200, 'Favourite drink':'Prune juice, drink of a warrior'}\n",
    "dicB = {'Name': 'Jean-Luc Picard', 'Species':'Human', 'Hair colour':'Unknown', 'Age':37, 'Height':180, 'Favourite drink':'Tea. Earl grey. Hot.' }\n",
    "dicC = {'Name': 'Deanna Troi', 'Species':'Betazoid-Human', 'Hair colour':'Black', 'Age':30, 'Height':150, 'Favourite drink':'Something chocolate'}\n",
    "dicD = {'Name': 'Data', 'Species':'Wannabe Human', 'Hair colour':float('nan'), 'Age':72.2394572, 'Height':180.05279}"
   ]
  },
  {
   "cell_type": "code",
   "execution_count": 40,
   "metadata": {},
   "outputs": [],
   "source": [
    "#Let's make a single database dictionary with all this information\n",
    "database = {}\n",
    "#Now let's key the database dic using the value of the name of the Star Trek character\n",
    "#to identify the row, and the key to identify the column\n",
    "\n",
    "#For simplicity, we will keep a list of all the row names and column names that can exist\n",
    "namekeys = []\n",
    "attribkeys = []\n",
    "\n",
    "#First, loop through each character's dictionary\n",
    "for dic in [dicA, dicB, dicC, dicD]:\n",
    "    #We will use the character name as the label for the 'row' of the database\n",
    "    namekey = dic['Name'] \n",
    "    #Add it to the list of row keys\n",
    "    namekeys.append(namekey)\n",
    "    \n",
    "    #Now loop through all the attributes of the character (i.e. keys of the individual dictionary, e.g. species, hair colour, height)\n",
    "    for attribkey in dic.keys():\n",
    "        #To avoid duplication, if attribkey is not already stored in attribkeys, let's add it to attribkeys.\n",
    "        if attribkey not in attribkeys: attribkeys.append(attribkey)\n",
    "        #Add the information to the database\n",
    "        database[namekey, attribkey] = dic[attribkey]\n"
   ]
  },
  {
   "cell_type": "code",
   "execution_count": 41,
   "metadata": {},
   "outputs": [
    {
     "name": "stdout",
     "output_type": "stream",
     "text": [
      "Worf's species: I AM A KLINGON\n",
      "Worf's favourite drink: Prune juice, drink of a warrior\n"
     ]
    }
   ],
   "source": [
    "#So to access values in this dictionary, you use the following tuples of keys to access the information.\n",
    "print(\"Worf's species:\", database['Worf', 'Species'])\n",
    "print(\"Worf's favourite drink:\", database['Worf','Favourite drink'])"
   ]
  },
  {
   "cell_type": "code",
   "execution_count": null,
   "metadata": {},
   "outputs": [],
   "source": [
    "'''\n",
    "EXERCISE FOUR:\n",
    "-Add your 'Name', 'Species', and 'Hair colour' to the database dictionary.\n",
    "-Add your name to the namekeys list\n",
    "'''"
   ]
  },
  {
   "cell_type": "code",
   "execution_count": 42,
   "metadata": {},
   "outputs": [],
   "source": [
    "#WHen multiple indicies of a dictionary key exist, they key is stored as a tuple.\n",
    "#We can generate all potential dictionary keys by creating all combinations of (namekey,attribkey)\n",
    "potentialkeys = []\n",
    "for namekey in namekeys:\n",
    "    for attribkey in attribkeys:\n",
    "        potentialkeys.append((namekey,attribkey))\n"
   ]
  },
  {
   "cell_type": "code",
   "execution_count": 43,
   "metadata": {},
   "outputs": [
    {
     "name": "stdout",
     "output_type": "stream",
     "text": [
      "Data does not have a favourite drink.\n",
      "Jean-Luc Picard's favourite drink is: Tea. Earl grey. Hot.\n"
     ]
    }
   ],
   "source": [
    "#However note that not all the keys we generated in potentialkeys exist in the database\n",
    "#For example, Data doesn't have a favourite drink!\n",
    "\n",
    "testkey1 = ('Data', 'Favourite drink')\n",
    "testkey2 = ('Jean-Luc Picard', 'Favourite drink')\n",
    "\n",
    "for key in [testkey1, testkey2]:\n",
    "    #We can extract the values within the tuple as follows\n",
    "    (name,drink) = key\n",
    "    if key in database.keys():\n",
    "        val = database[key]\n",
    "        print(\"%s's favourite drink is: %s\"%(name, val))\n",
    "    else:\n",
    "        print(\"%s does not have a favourite drink.\"%name)\n",
    "    "
   ]
  },
  {
   "cell_type": "code",
   "execution_count": 11,
   "metadata": {},
   "outputs": [],
   "source": [
    "'''\n",
    "EXERCISE FIVE:\n",
    "-For each potential key NOT in the database, add the key to the database and fill with the same default value.\n",
    "'''\n",
    "\n"
   ]
  },
  {
   "cell_type": "code",
   "execution_count": 13,
   "metadata": {},
   "outputs": [
    {
     "name": "stdout",
     "output_type": "stream",
     "text": [
      "Congrats, you successfully completed the exercise!\n"
     ]
    }
   ],
   "source": [
    "#Exercise five evaluation!\n",
    "evaluation = True\n",
    "for key in potentialkeys:\n",
    "    if key not in database.keys(): evaluation=False\n",
    "if evaluation: print(\"Congrats, you successfully completed the exercise!\")\n",
    "else: print(\"Something is wrong with your code. Please try again.\")"
   ]
  },
  {
   "cell_type": "markdown",
   "metadata": {},
   "source": [
    "That's it for dictionaries!\n",
    "\n",
    "You may also want to explore the NumPy pacakge, which gives you access to arrays, allowing you to do a bunch of fun operations on the contents of an array. THey are also much faster than lists, but all have to be the same type.\n",
    "\n",
    "Please email me if you have any questions!"
   ]
  }
 ],
 "metadata": {
  "kernelspec": {
   "display_name": "Python 3",
   "language": "python",
   "name": "python3"
  },
  "language_info": {
   "codemirror_mode": {
    "name": "ipython",
    "version": 3
   },
   "file_extension": ".py",
   "mimetype": "text/x-python",
   "name": "python",
   "nbconvert_exporter": "python",
   "pygments_lexer": "ipython3",
   "version": "3.6.9"
  }
 },
 "nbformat": 4,
 "nbformat_minor": 4
}
