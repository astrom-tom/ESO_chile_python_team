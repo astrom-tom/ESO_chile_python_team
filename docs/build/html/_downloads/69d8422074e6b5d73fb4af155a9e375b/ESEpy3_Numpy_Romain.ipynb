{
 "cells": [
  {
   "cell_type": "markdown",
   "metadata": {},
   "source": [
    "# Numpy: Numerical Python"
   ]
  },
  {
   "cell_type": "markdown",
   "metadata": {},
   "source": [
    "## --> Basic package for Data science\n",
    "\n",
    "Useful link: https://docs.scipy.org/doc/numpy/ <--Manual\n",
    "\n",
    "Why would you use it?"
   ]
  },
  {
   "cell_type": "code",
   "execution_count": 1,
   "metadata": {},
   "outputs": [],
   "source": [
    "A = range(1000) #--> list of number from 0 to 99999\n",
    "#How would you transform all the element to their square?"
   ]
  },
  {
   "cell_type": "code",
   "execution_count": 2,
   "metadata": {},
   "outputs": [],
   "source": [
    "###let's create a function that transform all the A elements\n",
    "###to their square\n",
    "def loop(A):\n",
    "    B = []\n",
    "    for i in A:\n",
    "        B.append(i*i)"
   ]
  },
  {
   "cell_type": "code",
   "execution_count": 3,
   "metadata": {},
   "outputs": [
    {
     "name": "stdout",
     "output_type": "stream",
     "text": [
      "102 µs ± 197 ns per loop (mean ± std. dev. of 7 runs, 10000 loops each)\n"
     ]
    }
   ],
   "source": [
    "%timeit loop(A)"
   ]
  },
  {
   "cell_type": "code",
   "execution_count": 5,
   "metadata": {},
   "outputs": [
    {
     "name": "stdout",
     "output_type": "stream",
     "text": [
      "1.52 µs ± 4.85 ns per loop (mean ± std. dev. of 7 runs, 1000000 loops each)\n"
     ]
    }
   ],
   "source": [
    "##the numpy way:\n",
    "import numpy\n",
    "\n",
    "C = numpy.array(A)\n",
    "\n",
    "%timeit B = C*2"
   ]
  },
  {
   "cell_type": "markdown",
   "metadata": {},
   "source": [
    "# Numpy is FAST and SUPER useful to manipulate data"
   ]
  },
  {
   "cell_type": "markdown",
   "metadata": {},
   "source": [
    "## 1 - The central structure: The *Numpy array*"
   ]
  },
  {
   "cell_type": "markdown",
   "metadata": {},
   "source": [
    "A numpy array is a homogeneous multidimensional array. It is a table of elements (usually numbers), **all of the same type**. In NumPy, dimensions are called axes.\n",
    "\n",
    "### How to create a numpy array?"
   ]
  },
  {
   "cell_type": "code",
   "execution_count": 6,
   "metadata": {},
   "outputs": [
    {
     "name": "stdout",
     "output_type": "stream",
     "text": [
      "[1 2 3] <class 'numpy.ndarray'>\n"
     ]
    }
   ],
   "source": [
    "## 1 - from other python structure (list, tuple):\n",
    "A = [1, 2, 3]\n",
    "A = numpy.array(A)\n",
    "print(A, type(A))"
   ]
  },
  {
   "cell_type": "code",
   "execution_count": 8,
   "metadata": {},
   "outputs": [
    {
     "name": "stdout",
     "output_type": "stream",
     "text": [
      "['a' '1' 'blabla'] <class 'numpy.ndarray'>\n"
     ]
    }
   ],
   "source": [
    "##as I said, all the element are of the same type\n",
    "##if you create\n",
    "A = ['a', 1, 'blabla']\n",
    "A = numpy.array(A)\n",
    "print(A, type(A))\n",
    "##it will assume you only have string!\n",
    "\n",
    "##THE NUMPY ARRAY CONTAINS ELEMENT OF THE SAME TYPE!"
   ]
  },
  {
   "cell_type": "code",
   "execution_count": 14,
   "metadata": {},
   "outputs": [
    {
     "name": "stdout",
     "output_type": "stream",
     "text": [
      "A [1 2 3 4 5 6 7 8 9]\n",
      "B [0. 0. 0. 0. 0. 0. 0. 0. 0. 0.]\n",
      "C [1. 1. 1. 1. 1. 1. 1. 1. 1. 1.]\n",
      "D [ 1.    3.25  5.5   7.75 10.  ]\n"
     ]
    }
   ],
   "source": [
    "# 2 - from scratch with numpy\n",
    "A = numpy.arange(1,10,1)\n",
    "print('A', A)\n",
    "B = numpy.zeros((10))  ###takes a tuple as argument\n",
    "print('B', B)\n",
    "C = numpy.ones((10))\n",
    "print('C', C)\n",
    "D = numpy.linspace(1,10,5)\n",
    "print('D',D)"
   ]
  },
  {
   "cell_type": "code",
   "execution_count": 27,
   "metadata": {},
   "outputs": [
    {
     "name": "stdout",
     "output_type": "stream",
     "text": [
      "[ 1.44760555  0.33683842 -0.75705611  0.24531903 -0.06343505  0.33937861\n",
      "  1.50213559  0.36593138  1.07077446  0.78619313] <class 'numpy.ndarray'>\n"
     ]
    }
   ],
   "source": [
    "# 3 # From numpy functions\n",
    "E = numpy.random.randn(10)\n",
    "print(E, type(E))"
   ]
  },
  {
   "cell_type": "code",
   "execution_count": 28,
   "metadata": {},
   "outputs": [
    {
     "name": "stdout",
     "output_type": "stream",
     "text": [
      "1 1 1 1 1\n",
      "(9,) (10,) (10,) (5,) (10,)\n",
      "9 10 10 5 10\n"
     ]
    }
   ],
   "source": [
    "print(A.ndim, B.ndim, C.ndim, D.ndim, E.ndim)\n",
    "print(A.shape, B.shape, C.shape, D.shape, E.shape)\n",
    "print(A.size, B.size, C.size, D.size, E.size)"
   ]
  },
  {
   "cell_type": "code",
   "execution_count": 29,
   "metadata": {},
   "outputs": [
    {
     "name": "stdout",
     "output_type": "stream",
     "text": [
      "[[1 2 3]\n",
      " [3 4 5]] 2 (2, 3) 6\n"
     ]
    }
   ],
   "source": [
    "##creation of Ndimensional array\n",
    "##from lists\n",
    "A = [[1, 2, 3],[3,4,5]]\n",
    "A = numpy.array(A)\n",
    "print(A, A.ndim, A.shape, A.size)"
   ]
  },
  {
   "cell_type": "code",
   "execution_count": 30,
   "metadata": {},
   "outputs": [
    {
     "name": "stdout",
     "output_type": "stream",
     "text": [
      "B [[0. 0.]\n",
      " [0. 0.]\n",
      " [0. 0.]\n",
      " [0. 0.]\n",
      " [0. 0.]\n",
      " [0. 0.]\n",
      " [0. 0.]\n",
      " [0. 0.]\n",
      " [0. 0.]\n",
      " [0. 0.]] 2 (10, 2) 20\n"
     ]
    }
   ],
   "source": [
    "#from numpy functions\n",
    "B = numpy.zeros((10,2)) \n",
    "print('B', B, B.ndim, B.shape, B.size)"
   ]
  },
  {
   "cell_type": "code",
   "execution_count": 31,
   "metadata": {},
   "outputs": [
    {
     "name": "stdout",
     "output_type": "stream",
     "text": [
      "[[1. 0. 0.]\n",
      " [0. 1. 0.]\n",
      " [0. 0. 1.]]\n"
     ]
    }
   ],
   "source": [
    "###identity matrix\n",
    "iD = numpy.eye(3)\n",
    "print(iD)"
   ]
  },
  {
   "cell_type": "code",
   "execution_count": 32,
   "metadata": {},
   "outputs": [
    {
     "name": "stdout",
     "output_type": "stream",
     "text": [
      "[0 1 2 3 4 5 6 7 8]\n",
      "[[0 1 2]\n",
      " [3 4 5]\n",
      " [6 7 8]]\n"
     ]
    }
   ],
   "source": [
    "###go from 1D array to 2D array:\n",
    "\n",
    "A = numpy.arange(9)\n",
    "print(A)\n",
    "B = A.reshape(3,3)\n",
    "print(B)"
   ]
  },
  {
   "cell_type": "code",
   "execution_count": 33,
   "metadata": {},
   "outputs": [
    {
     "name": "stdout",
     "output_type": "stream",
     "text": [
      "[0 1 2 3 4 5 6 7 8]\n"
     ]
    }
   ],
   "source": [
    "###go from 2D to 1D\n",
    "print(numpy.ravel(B))"
   ]
  },
  {
   "cell_type": "markdown",
   "metadata": {},
   "source": [
    "## 2 - Manipulation"
   ]
  },
  {
   "cell_type": "code",
   "execution_count": 34,
   "metadata": {},
   "outputs": [],
   "source": [
    "##let's define 2 lists\n",
    "B = [1,2,3,4,5]\n",
    "A = [2,3,4,5,6]"
   ]
  },
  {
   "cell_type": "code",
   "execution_count": 35,
   "metadata": {},
   "outputs": [
    {
     "data": {
      "text/plain": [
       "[2, 3, 4, 5, 6, 1, 2, 3, 4, 5]"
      ]
     },
     "execution_count": 35,
     "metadata": {},
     "output_type": "execute_result"
    }
   ],
   "source": [
    "##what if you want to create a third list composed\n",
    "##of the sum of element of the 2 other list?\n",
    "###and a 4th coreponding to the product of the 2?\n",
    "A+B"
   ]
  },
  {
   "cell_type": "code",
   "execution_count": 36,
   "metadata": {},
   "outputs": [
    {
     "name": "stdout",
     "output_type": "stream",
     "text": [
      "[ 3  5  7  9 11]\n",
      "[ 2  6 12 20 30]\n",
      "[2.         1.5        1.33333333 1.25       1.2       ]\n"
     ]
    }
   ],
   "source": [
    "###here comes numpy:\n",
    "B = numpy.array([1,2,3,4,5])\n",
    "A = numpy.array([2,3,4,5,6])\n",
    "\n",
    "print(A+B)\n",
    "print(A*B)\n",
    "print(A/B)  "
   ]
  },
  {
   "cell_type": "markdown",
   "metadata": {},
   "source": [
    "### --> You can do element-wise Mathematical operation with Numpy arrays"
   ]
  },
  {
   "cell_type": "code",
   "execution_count": 42,
   "metadata": {},
   "outputs": [],
   "source": [
    "##let's define 2 new arrays\n",
    "\n",
    "B = numpy.array([1,2,3,4,5])\n",
    "A = numpy.array([2,3,4,5,6,7])\n",
    "\n",
    "##and multiply them"
   ]
  },
  {
   "cell_type": "code",
   "execution_count": 43,
   "metadata": {},
   "outputs": [
    {
     "ename": "ValueError",
     "evalue": "operands could not be broadcast together with shapes (5,) (6,) ",
     "output_type": "error",
     "traceback": [
      "\u001b[0;31m---------------------------------------------------------------------------\u001b[0m",
      "\u001b[0;31mValueError\u001b[0m                                Traceback (most recent call last)",
      "\u001b[0;32m<ipython-input-43-55e7d2e10b92>\u001b[0m in \u001b[0;36m<module>\u001b[0;34m\u001b[0m\n\u001b[0;32m----> 1\u001b[0;31m \u001b[0mB\u001b[0m\u001b[0;34m*\u001b[0m\u001b[0mA\u001b[0m\u001b[0;34m\u001b[0m\u001b[0;34m\u001b[0m\u001b[0m\n\u001b[0m",
      "\u001b[0;31mValueError\u001b[0m: operands could not be broadcast together with shapes (5,) (6,) "
     ]
    }
   ],
   "source": [
    "B*A"
   ]
  },
  {
   "cell_type": "markdown",
   "metadata": {},
   "source": [
    "## 3 - What else?"
   ]
  },
  {
   "cell_type": "code",
   "execution_count": 59,
   "metadata": {},
   "outputs": [
    {
     "name": "stdout",
     "output_type": "stream",
     "text": [
      "A=numpy.arange(16).reshape(4,4)\n",
      " [[ 0  1  2  3]\n",
      " [ 4  5  6  7]\n",
      " [ 8  9 10 11]\n",
      " [12 13 14 15]] \n",
      "\n",
      "A[1]= [4 5 6 7] \n",
      "\n"
     ]
    }
   ],
   "source": [
    "##indexing\n",
    "A = numpy.arange(16).reshape(4,4)\n",
    "print('A=numpy.arange(16).reshape(4,4)\\n',      A      ,'\\n')\n",
    "print('A[1]=',     A[1]      ,'\\n')"
   ]
  },
  {
   "cell_type": "code",
   "execution_count": 60,
   "metadata": {},
   "outputs": [
    {
     "name": "stdout",
     "output_type": "stream",
     "text": [
      "[[ 0  1  2  3]\n",
      " [12 14 15 16]\n",
      " [ 8  9 10 11]\n",
      " [12 13 14 15]]\n"
     ]
    }
   ],
   "source": [
    "###change of one line:\n",
    "\n",
    "A[1] = [12, 14, 15, 16]\n",
    "\n",
    "print(A)"
   ]
  },
  {
   "cell_type": "code",
   "execution_count": 61,
   "metadata": {},
   "outputs": [
    {
     "name": "stdout",
     "output_type": "stream",
     "text": [
      "[[   0    1    2    3]\n",
      " [  12   14   15   16]\n",
      " [1000 1000 1000 1000]\n",
      " [  12   13   14   15]]\n"
     ]
    }
   ],
   "source": [
    "A[2] = 1000\n",
    "\n",
    "print(A)"
   ]
  },
  {
   "cell_type": "code",
   "execution_count": 62,
   "metadata": {},
   "outputs": [
    {
     "name": "stdout",
     "output_type": "stream",
     "text": [
      "A[:,:2]=\n",
      " [[   0    1]\n",
      " [  12   14]\n",
      " [1000 1000]\n",
      " [  12   13]] \n",
      "\n"
     ]
    }
   ],
   "source": [
    "###slicing\n",
    "print('A[:,:2]=\\n',     A[:,:2],    '\\n')   \n",
    "## --> I want all the lines, but only the 2 first columns"
   ]
  },
  {
   "cell_type": "code",
   "execution_count": 63,
   "metadata": {},
   "outputs": [
    {
     "name": "stdout",
     "output_type": "stream",
     "text": [
      "0\n",
      "1000\n"
     ]
    }
   ],
   "source": [
    "###min and max\n",
    "print(A.min())\n",
    "print(A.max())"
   ]
  },
  {
   "cell_type": "code",
   "execution_count": 64,
   "metadata": {},
   "outputs": [
    {
     "name": "stdout",
     "output_type": "stream",
     "text": [
      "A+1=\n",
      " [[   1    2    3    4]\n",
      " [  13   15   16   17]\n",
      " [1001 1001 1001 1001]\n",
      " [  13   14   15   16]] \n",
      "\n"
     ]
    }
   ],
   "source": [
    "###addition of number\n",
    "print('A+1=\\n', A+1, '\\n')"
   ]
  },
  {
   "cell_type": "code",
   "execution_count": 67,
   "metadata": {},
   "outputs": [
    {
     "name": "stdout",
     "output_type": "stream",
     "text": [
      "(array([2, 2, 2, 2]), array([0, 1, 2, 3]))\n"
     ]
    }
   ],
   "source": [
    "###Want to find a special number?  \n",
    "print(numpy.where(A+1==1001)) \n",
    "##one of my favorite numpy function"
   ]
  },
  {
   "cell_type": "code",
   "execution_count": 68,
   "metadata": {},
   "outputs": [
    {
     "data": {
      "text/plain": [
       "[2, 3, 4, 5, 6, 1, 2, 3, 4, 5]"
      ]
     },
     "execution_count": 68,
     "metadata": {},
     "output_type": "execute_result"
    }
   ],
   "source": [
    "##let's go back to lists for a moment\n",
    "B = [1,2,3,4,5]\n",
    "A = [2,3,4,5,6]\n",
    "C = A+B #<---will concatenate them and create a new list\n",
    "C   "
   ]
  },
  {
   "cell_type": "code",
   "execution_count": 69,
   "metadata": {},
   "outputs": [
    {
     "data": {
      "text/plain": [
       "array([2, 3, 4, 5, 6, 1, 2, 3, 4, 5])"
      ]
     },
     "execution_count": 69,
     "metadata": {},
     "output_type": "execute_result"
    }
   ],
   "source": [
    "###How to do that in numpy?\n",
    "B = numpy.array([1,2,3,4,5])\n",
    "A = numpy.array([2,3,4,5,6])\n",
    "C = numpy.concatenate((A,B))\n",
    "C"
   ]
  },
  {
   "cell_type": "code",
   "execution_count": 70,
   "metadata": {},
   "outputs": [
    {
     "data": {
      "text/plain": [
       "array([ True,  True,  True,  True,  True,  True,  True,  True,  True,\n",
       "        True])"
      ]
     },
     "execution_count": 70,
     "metadata": {},
     "output_type": "execute_result"
    }
   ],
   "source": [
    "###YOU CAN SAAAAVE THEEM in your DISK\n",
    "A = numpy.array(range(10))\n",
    "numpy.save('A.npy', A)  #<<--save in disk\n",
    "B = numpy.load('A.npy') #<--load from disk\n",
    "B==A"
   ]
  },
  {
   "cell_type": "markdown",
   "metadata": {},
   "source": [
    "#### Exercice 1:  Create a null (1d array) vector of size 10 but the fifth value which is 1\n",
    "#### Exercice 2:  Create a 2d 7x7 array with values ranging from 49 to 1\n",
    "#### Exercice 3:  Create a 2d array 9x9 filled of zeros and change the middle value from 0 to 1\n",
    "#### Exercice 4:  Create 2d array  5x5 with 2 on the border and 1 inside"
   ]
  }
 ],
 "metadata": {
  "kernelspec": {
   "display_name": "Python 3",
   "language": "python",
   "name": "python3"
  },
  "language_info": {
   "codemirror_mode": {
    "name": "ipython",
    "version": 3
   },
   "file_extension": ".py",
   "mimetype": "text/x-python",
   "name": "python",
   "nbconvert_exporter": "python",
   "pygments_lexer": "ipython3",
   "version": "3.7.1"
  }
 },
 "nbformat": 4,
 "nbformat_minor": 2
}
