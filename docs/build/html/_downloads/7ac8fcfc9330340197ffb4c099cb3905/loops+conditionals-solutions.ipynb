{
 "cells": [
  {
   "cell_type": "markdown",
   "metadata": {
    "slideshow": {
     "slide_type": "slide"
    }
   },
   "source": [
    "# PRINT: Python bootcamp 2020\n",
    "\n",
    "## Statements: loops and conditionals\n",
    "Johanna Hartke (jhartke@eso.org)\n",
    "\n",
    "![infinite loop](http://nonglish.com/_images/comics/infiniteloop.png)\n",
    "Nonglish.com\n",
    "\n",
    "Resources: \"Think Python: How to think like a computer scientist\" by Allen Downey"
   ]
  },
  {
   "cell_type": "markdown",
   "metadata": {
    "slideshow": {
     "slide_type": "slide"
    }
   },
   "source": [
    "### First and foremost: \n",
    "- Indentation is key! \n",
    "- Makes code more readable\n",
    "- In python: marks code blocks \n",
    "- Good text editors take care of this\n",
    "- Please, please, please do not mix spaces and tabs"
   ]
  },
  {
   "cell_type": "markdown",
   "metadata": {
    "slideshow": {
     "slide_type": "slide"
    }
   },
   "source": [
    "### The modulus operator `%`\n",
    "- Works on integers\n",
    "- Yields the remainder of division\n",
    "\n",
    "Example"
   ]
  },
  {
   "cell_type": "code",
   "execution_count": 6,
   "metadata": {},
   "outputs": [
    {
     "name": "stdout",
     "output_type": "stream",
     "text": [
      "Quotient:  1\n",
      "Remainder:  2\n"
     ]
    }
   ],
   "source": [
    "quotient = 5//3 # true division\n",
    "remainder = 5%3\n",
    "print('Quotient: ', quotient)\n",
    "print('Remainder: ', remainder)"
   ]
  },
  {
   "cell_type": "markdown",
   "metadata": {
    "slideshow": {
     "slide_type": "notes"
    }
   },
   "source": [
    "I am old enough to remember the times of python2. Back in the days, division of integers with a single `\\` worked as floor division. Now in python3, `\\` is true division and `\\\\` floor division."
   ]
  },
  {
   "cell_type": "markdown",
   "metadata": {
    "slideshow": {
     "slide_type": "slide"
    }
   },
   "source": [
    "### Boolean expressions \n",
    "- Expressions that are either `True` or `False`\n",
    "- `True` and `False` are not strings, they have type `bool`\n",
    "- `None` is evaluated as `False`\n",
    "- Nonzero numbers are evaluated as `True`\n",
    "\n",
    "Examples:"
   ]
  },
  {
   "cell_type": "code",
   "execution_count": 7,
   "metadata": {},
   "outputs": [
    {
     "data": {
      "text/plain": [
       "True"
      ]
     },
     "execution_count": 7,
     "metadata": {},
     "output_type": "execute_result"
    }
   ],
   "source": [
    "10 == 10"
   ]
  },
  {
   "cell_type": "code",
   "execution_count": 9,
   "metadata": {},
   "outputs": [
    {
     "data": {
      "text/plain": [
       "False"
      ]
     },
     "execution_count": 9,
     "metadata": {},
     "output_type": "execute_result"
    }
   ],
   "source": [
    "10 == 20"
   ]
  },
  {
   "cell_type": "code",
   "execution_count": 11,
   "metadata": {},
   "outputs": [
    {
     "data": {
      "text/plain": [
       "bool"
      ]
     },
     "execution_count": 11,
     "metadata": {},
     "output_type": "execute_result"
    }
   ],
   "source": [
    "type(False)"
   ]
  },
  {
   "cell_type": "markdown",
   "metadata": {
    "slideshow": {
     "slide_type": "slide"
    }
   },
   "source": [
    "### Comparison operators\n",
    "Similar to other languages: \n",
    "\n",
    "```python\n",
    "x != y       # x is not equal to y\n",
    "x > y        # x is greater than y\n",
    "x < y        # x is less than y\n",
    "x >= y       # x is greater than or equal to y\n",
    "x <= y       # x is less than or equal to y\n",
    "```"
   ]
  },
  {
   "cell_type": "markdown",
   "metadata": {
    "slideshow": {
     "slide_type": "slide"
    }
   },
   "source": [
    "### Logical operators\n",
    "\n",
    "1) `and`"
   ]
  },
  {
   "cell_type": "code",
   "execution_count": 14,
   "metadata": {},
   "outputs": [
    {
     "data": {
      "text/plain": [
       "True"
      ]
     },
     "execution_count": 14,
     "metadata": {},
     "output_type": "execute_result"
    }
   ],
   "source": [
    "n = 6\n",
    "n > 0 and n < 10"
   ]
  },
  {
   "cell_type": "markdown",
   "metadata": {
    "slideshow": {
     "slide_type": "subslide"
    }
   },
   "source": [
    "2) `or`"
   ]
  },
  {
   "cell_type": "code",
   "execution_count": 18,
   "metadata": {},
   "outputs": [
    {
     "data": {
      "text/plain": [
       "True"
      ]
     },
     "execution_count": 18,
     "metadata": {},
     "output_type": "execute_result"
    }
   ],
   "source": [
    "n%2 == 0 or n%3 == 0"
   ]
  },
  {
   "cell_type": "markdown",
   "metadata": {
    "slideshow": {
     "slide_type": "subslide"
    }
   },
   "source": [
    "3) `not` negates a boolean expression"
   ]
  },
  {
   "cell_type": "code",
   "execution_count": 19,
   "metadata": {},
   "outputs": [
    {
     "data": {
      "text/plain": [
       "True"
      ]
     },
     "execution_count": 19,
     "metadata": {},
     "output_type": "execute_result"
    }
   ],
   "source": [
    "not (n > 10)"
   ]
  },
  {
   "cell_type": "markdown",
   "metadata": {
    "slideshow": {
     "slide_type": "slide"
    }
   },
   "source": [
    "### Conditional execution\n",
    "\n",
    "```python\n",
    "if statement == True:\n",
    "    do something\n",
    "```\n",
    "\n",
    "Note the indentation.\n",
    "\n",
    "Example:"
   ]
  },
  {
   "cell_type": "code",
   "execution_count": 4,
   "metadata": {
    "slideshow": {
     "slide_type": "subslide"
    }
   },
   "outputs": [
    {
     "name": "stdout",
     "output_type": "stream",
     "text": [
      "x is positive\n"
     ]
    }
   ],
   "source": [
    "x = 42\n",
    "if x > 0:\n",
    "    print('x is positive')\n",
    "if x < 0:\n",
    "    pass # do nothing"
   ]
  },
  {
   "cell_type": "markdown",
   "metadata": {
    "slideshow": {
     "slide_type": "slide"
    }
   },
   "source": [
    "### Alternative execution\n",
    "\n",
    "- two possibilities\n",
    "- `if` followed by `else`"
   ]
  },
  {
   "cell_type": "code",
   "execution_count": 6,
   "metadata": {
    "slideshow": {
     "slide_type": "subslide"
    }
   },
   "outputs": [
    {
     "name": "stdout",
     "output_type": "stream",
     "text": [
      "x is even\n"
     ]
    }
   ],
   "source": [
    "x = 42\n",
    "if x%2 == 0:\n",
    "    print('x is even')\n",
    "else:\n",
    "    print('x is odd')"
   ]
  },
  {
   "cell_type": "markdown",
   "metadata": {
    "slideshow": {
     "slide_type": "slide"
    }
   },
   "source": [
    "### Chained conditionals\n",
    "\n",
    "- more than two possibilities\n",
    "- start with `if`\n",
    "- continue with `elif` (not `else if`)\n",
    "- can end with `else`\n",
    "- conditions are checked in order\n",
    "- even if more than one condition is true, only the first rue branch executes"
   ]
  },
  {
   "cell_type": "code",
   "execution_count": 11,
   "metadata": {
    "slideshow": {
     "slide_type": "subslide"
    }
   },
   "outputs": [
    {
     "name": "stdout",
     "output_type": "stream",
     "text": [
      "x is negative\n"
     ]
    }
   ],
   "source": [
    "x = -42\n",
    "if x > 0:\n",
    "    print('x is positive')\n",
    "elif x == 0:\n",
    "    print('x is zero')\n",
    "else:\n",
    "    print('x is negative')"
   ]
  },
  {
   "cell_type": "markdown",
   "metadata": {
    "slideshow": {
     "slide_type": "slide"
    }
   },
   "source": [
    "### Nested conditionals\n",
    "\n",
    "- combine conditionals\n",
    "- might become complicated to read\n",
    "    - many tabs..."
   ]
  },
  {
   "cell_type": "code",
   "execution_count": 13,
   "metadata": {
    "slideshow": {
     "slide_type": "subslide"
    }
   },
   "outputs": [
    {
     "name": "stdout",
     "output_type": "stream",
     "text": [
      "x is negative\n"
     ]
    }
   ],
   "source": [
    "x = -42\n",
    "if x > 0:\n",
    "    print('x is positive')\n",
    "else:\n",
    "    if x == 0:\n",
    "        print('x is zero')\n",
    "    else:\n",
    "        print('x is negative')"
   ]
  },
  {
   "cell_type": "markdown",
   "metadata": {
    "slideshow": {
     "slide_type": "slide"
    }
   },
   "source": [
    "### Nested conditionals\n",
    "\n",
    "- use logical operators to simplify nested condtionals"
   ]
  },
  {
   "cell_type": "code",
   "execution_count": 15,
   "metadata": {
    "slideshow": {
     "slide_type": "subslide"
    }
   },
   "outputs": [
    {
     "name": "stdout",
     "output_type": "stream",
     "text": [
      "x is a positive double-digit number.\n"
     ]
    }
   ],
   "source": [
    "x = 42\n",
    "if 10 < x:\n",
    "    if x < 100:\n",
    "        print('x is a positive double-digit number.')"
   ]
  },
  {
   "cell_type": "code",
   "execution_count": 16,
   "metadata": {},
   "outputs": [
    {
     "name": "stdout",
     "output_type": "stream",
     "text": [
      "x is a positive double-digit number.\n"
     ]
    }
   ],
   "source": [
    "if 10 < x and x < 100:\n",
    "    print('x is a positive double-digit number.')"
   ]
  },
  {
   "cell_type": "markdown",
   "metadata": {
    "slideshow": {
     "slide_type": "slide"
    }
   },
   "source": [
    "### Recursion\n",
    "\n",
    "![infinite recursion](https://miro.medium.com/max/1000/0*-bVFvKXDxH-z6u2q.png)"
   ]
  },
  {
   "cell_type": "markdown",
   "metadata": {
    "slideshow": {
     "slide_type": "slide"
    }
   },
   "source": [
    "### Recursion\n",
    "\n",
    "- A function that calls itself is **recursive**.\n",
    "- The process is called **recursion**.\n",
    "\n",
    "Example: A function that prints a string n times."
   ]
  },
  {
   "cell_type": "code",
   "execution_count": 18,
   "metadata": {
    "slideshow": {
     "slide_type": "subslide"
    }
   },
   "outputs": [],
   "source": [
    "def print_string(s, n):\n",
    "    if n <= 0:\n",
    "        return\n",
    "    print(s)\n",
    "    print_string(s, n-1)"
   ]
  },
  {
   "cell_type": "code",
   "execution_count": 19,
   "metadata": {},
   "outputs": [
    {
     "name": "stdout",
     "output_type": "stream",
     "text": [
      "test\n",
      "test\n",
      "test\n",
      "test\n",
      "test\n",
      "test\n",
      "test\n",
      "test\n",
      "test\n",
      "test\n"
     ]
    }
   ],
   "source": [
    "word = 'test'\n",
    "amount = 10\n",
    "print_string(word, amount)"
   ]
  },
  {
   "cell_type": "markdown",
   "metadata": {
    "slideshow": {
     "slide_type": "slide"
    }
   },
   "source": [
    "### Infinite Recursion\n",
    "\n",
    "- **Not a good idea**\n",
    "- Python will prevent you from having an infinite recursion run forever\n",
    "\n",
    "    ```RuntimeError: Maximum recursion depth exceeded```"
   ]
  },
  {
   "cell_type": "markdown",
   "metadata": {
    "slideshow": {
     "slide_type": "slide"
    }
   },
   "source": [
    "### Exercise 1: The final countdown\n",
    "\n",
    "Write a recursive programme that prints a count-down from $n$. As soon as zero is reached, the program should print **Ka-Boom!**."
   ]
  },
  {
   "cell_type": "code",
   "execution_count": 20,
   "metadata": {
    "slideshow": {
     "slide_type": "notes"
    }
   },
   "outputs": [],
   "source": [
    "def countdown(n):\n",
    "    if n <= 0:\n",
    "        print('Ka-Boom!')\n",
    "    else:\n",
    "        print(n)\n",
    "        countdown(n-1)"
   ]
  },
  {
   "cell_type": "code",
   "execution_count": 26,
   "metadata": {
    "slideshow": {
     "slide_type": "notes"
    }
   },
   "outputs": [
    {
     "name": "stdout",
     "output_type": "stream",
     "text": [
      "10\n",
      "9\n",
      "8\n",
      "7\n",
      "6\n",
      "5\n",
      "4\n",
      "3\n",
      "2\n",
      "1\n",
      "Ka-Boom!\n"
     ]
    }
   ],
   "source": [
    "countdown(10)"
   ]
  },
  {
   "cell_type": "markdown",
   "metadata": {
    "slideshow": {
     "slide_type": "slide"
    }
   },
   "source": [
    "### Exercise 2: \n",
    "\n",
    "Write a programme that can compute factorials of a given integer using recursion:\n",
    "\n",
    "$n!=n\\cdot (n-1)!$"
   ]
  },
  {
   "cell_type": "code",
   "execution_count": 27,
   "metadata": {
    "slideshow": {
     "slide_type": "notes"
    }
   },
   "outputs": [],
   "source": [
    "def factorial(number):\n",
    "    if number <= 1:\n",
    "        return 1\n",
    "    else:\n",
    "        return (number)*factorial(number-1)"
   ]
  },
  {
   "cell_type": "code",
   "execution_count": 30,
   "metadata": {
    "slideshow": {
     "slide_type": "notes"
    }
   },
   "outputs": [
    {
     "data": {
      "text/plain": [
       "24"
      ]
     },
     "execution_count": 30,
     "metadata": {},
     "output_type": "execute_result"
    }
   ],
   "source": [
    "factorial(4)"
   ]
  },
  {
   "cell_type": "markdown",
   "metadata": {
    "slideshow": {
     "slide_type": "slide"
    }
   },
   "source": [
    "### Iteration\n",
    "\n",
    "> \"Repeating identicial or similar tasks without making errors is something that computers do well and people do poorly.\"\n",
    "\n",
    "Until now: used recursion to perform repetition."
   ]
  },
  {
   "cell_type": "markdown",
   "metadata": {
    "slideshow": {
     "slide_type": "slide"
    }
   },
   "source": [
    "### While statements\n",
    "\n",
    "```python\n",
    "while condition == True:\n",
    "    do something (body)\n",
    "```\n",
    "\n",
    "Execution Flow\n",
    "1. Evaluate the condition (`True` or `False`)\n",
    "2. If `False`: exit the `while` statement and continue with next statement\n",
    "3. If `True`: execute the body and go back to step 1.\n",
    "\n",
    "The body of the loop\n",
    "- Change the value of one or more variable\n",
    "- Eventually, the condition has to become `False`\n",
    "- Else: **Infinite Loop**"
   ]
  },
  {
   "cell_type": "markdown",
   "metadata": {
    "slideshow": {
     "slide_type": "slide"
    }
   },
   "source": [
    "#### The iterative final countdown"
   ]
  },
  {
   "cell_type": "code",
   "execution_count": 33,
   "metadata": {},
   "outputs": [],
   "source": [
    "def countdown(n):\n",
    "    while n>0:\n",
    "        print(n)\n",
    "        n = n - 1\n",
    "    print('Ka-Boom!')"
   ]
  },
  {
   "cell_type": "code",
   "execution_count": 35,
   "metadata": {},
   "outputs": [
    {
     "name": "stdout",
     "output_type": "stream",
     "text": [
      "10\n",
      "9\n",
      "8\n",
      "7\n",
      "6\n",
      "5\n",
      "4\n",
      "3\n",
      "2\n",
      "1\n",
      "Ka-Boom!\n"
     ]
    }
   ],
   "source": [
    "countdown(10)"
   ]
  },
  {
   "cell_type": "markdown",
   "metadata": {
    "slideshow": {
     "slide_type": "slide"
    }
   },
   "source": [
    "### Exercise 3: \n",
    "\n",
    "Earlier, we wrote the recursive function `print_string`:\n",
    "\n",
    "```python\n",
    "def print_string(s, n):\n",
    "    if n <= 0:\n",
    "        return\n",
    "    print(s)\n",
    "    print_string(s, n-1)\n",
    "```\n",
    "\n",
    "Rewrite the function using iteration instead of recursion."
   ]
  },
  {
   "cell_type": "code",
   "execution_count": 50,
   "metadata": {
    "slideshow": {
     "slide_type": "notes"
    }
   },
   "outputs": [
    {
     "name": "stdout",
     "output_type": "stream",
     "text": [
      "test\n",
      "test\n",
      "test\n",
      "test\n",
      "test\n"
     ]
    }
   ],
   "source": [
    "def print_string(s, n):\n",
    "    while n > 0:\n",
    "        n = n - 1\n",
    "        print(s)\n",
    "print_string('test', 5)"
   ]
  },
  {
   "cell_type": "markdown",
   "metadata": {
    "slideshow": {
     "slide_type": "slide"
    }
   },
   "source": [
    "### `For` loops \n",
    "\n",
    "Iterate over the items of any sequence\n",
    "- Strings\n",
    "- Lists\n",
    "- ..."
   ]
  },
  {
   "cell_type": "code",
   "execution_count": 56,
   "metadata": {
    "slideshow": {
     "slide_type": "subslide"
    }
   },
   "outputs": [
    {
     "name": "stdout",
     "output_type": "stream",
     "text": [
      "Current letter:  p\n",
      "Current letter:  y\n",
      "Current letter:  t\n",
      "Current letter:  h\n",
      "Current letter:  o\n",
      "Current letter:  n\n"
     ]
    }
   ],
   "source": [
    "for letter in 'python':\n",
    "    print('Current letter: ', letter)"
   ]
  },
  {
   "cell_type": "code",
   "execution_count": 57,
   "metadata": {
    "slideshow": {
     "slide_type": "subslide"
    }
   },
   "outputs": [
    {
     "name": "stdout",
     "output_type": "stream",
     "text": [
      "Current fruit:  banana\n",
      "Current fruit:  apple\n",
      "Current fruit:  mango\n"
     ]
    }
   ],
   "source": [
    "fruits = ['banana', 'apple', 'mango']\n",
    "\n",
    "for fruit in fruits:\n",
    "    print('Current fruit: ', fruit)"
   ]
  },
  {
   "cell_type": "code",
   "execution_count": 69,
   "metadata": {
    "slideshow": {
     "slide_type": "subslide"
    }
   },
   "outputs": [
    {
     "name": "stdout",
     "output_type": "stream",
     "text": [
      "Current fruit:  banana\n",
      "Current fruit:  apple\n",
      "Current fruit:  mango\n"
     ]
    }
   ],
   "source": [
    "# alternatively, as a while loop\n",
    "index = 0\n",
    "while index < len(fruits):\n",
    "    fruit = fruits[index]\n",
    "    print('Current fruit: ', fruit)\n",
    "    index = index + 1"
   ]
  },
  {
   "cell_type": "markdown",
   "metadata": {
    "slideshow": {
     "slide_type": "slide"
    }
   },
   "source": [
    "#### Looping and couting"
   ]
  },
  {
   "cell_type": "code",
   "execution_count": 62,
   "metadata": {},
   "outputs": [
    {
     "name": "stdout",
     "output_type": "stream",
     "text": [
      "3\n"
     ]
    }
   ],
   "source": [
    "word = 'banana'\n",
    "count = 0\n",
    "for letter in word:\n",
    "    if letter == 'a':\n",
    "        count += 1\n",
    "print(count)"
   ]
  },
  {
   "cell_type": "markdown",
   "metadata": {
    "slideshow": {
     "slide_type": "slide"
    }
   },
   "source": [
    "### Exercise 4\n",
    "\n",
    "Use the code snipped above, and rewrite it as a function named count. The function should accept the string, and the letter that is supposed to be counted."
   ]
  },
  {
   "cell_type": "code",
   "execution_count": 65,
   "metadata": {
    "slideshow": {
     "slide_type": "notes"
    }
   },
   "outputs": [
    {
     "name": "stdout",
     "output_type": "stream",
     "text": [
      "3\n"
     ]
    }
   ],
   "source": [
    "def count(word, letter):\n",
    "    count = 0\n",
    "    for char in word:\n",
    "        if char == letter:\n",
    "            count += 1\n",
    "    print(count)\n",
    "count('banana', 'a')"
   ]
  },
  {
   "cell_type": "markdown",
   "metadata": {
    "slideshow": {
     "slide_type": "slide"
    }
   },
   "source": [
    "### I want to `break` free!\n",
    "\n",
    "- `break` terminates the current loop\n",
    "- operation is resumed at the next statement\n",
    "\n",
    "![break free](https://upload.wikimedia.org/wikipedia/en/a/a8/I_Want_To_Break_Free.jpg)"
   ]
  },
  {
   "cell_type": "code",
   "execution_count": 36,
   "metadata": {
    "slideshow": {
     "slide_type": "subslide"
    }
   },
   "outputs": [
    {
     "name": "stdout",
     "output_type": "stream",
     "text": [
      "Current letter:  Q\n",
      "Current letter:  u\n"
     ]
    }
   ],
   "source": [
    "for letter in 'Queen':\n",
    "    if letter == 'e':\n",
    "        break\n",
    "    print('Current letter: ', letter)"
   ]
  },
  {
   "cell_type": "code",
   "execution_count": 40,
   "metadata": {
    "slideshow": {
     "slide_type": "subslide"
    }
   },
   "outputs": [
    {
     "name": "stdout",
     "output_type": "stream",
     "text": [
      "Current number: 25\n",
      "Current number: 24\n",
      "Current number: 23\n",
      "Current number: 22\n",
      "Current number: 21\n",
      "Current number: 20\n",
      "Current number: 19\n",
      "Current number: 18\n",
      "Current number: 17\n",
      "Current number: 16\n"
     ]
    }
   ],
   "source": [
    "number = 25\n",
    "while number > 0:\n",
    "    print('Current number:', number)\n",
    "    number = number - 1\n",
    "    if number == 15:\n",
    "        break"
   ]
  },
  {
   "cell_type": "markdown",
   "metadata": {
    "slideshow": {
     "slide_type": "slide"
    }
   },
   "source": [
    "### You shall not `pass`\n",
    "\n",
    "![pass](http://farm5.staticflickr.com/4025/4488876837_8d3da2423a_z.jpg)\n",
    "\n",
    "- *null operation*: do nothing\n",
    "- useful as a placeholder when your code is still in development"
   ]
  },
  {
   "cell_type": "code",
   "execution_count": 44,
   "metadata": {
    "slideshow": {
     "slide_type": "subslide"
    }
   },
   "outputs": [
    {
     "name": "stdout",
     "output_type": "stream",
     "text": [
      "Current letter:  G\n",
      "Current letter:  n\n",
      "Current letter:  d\n",
      "Current letter:  l\n",
      "Current letter:  f\n"
     ]
    }
   ],
   "source": [
    "for letter in 'Gandalf':\n",
    "    if letter == 'a':\n",
    "        pass\n",
    "    else:\n",
    "        print('Current letter: ', letter)"
   ]
  },
  {
   "cell_type": "markdown",
   "metadata": {
    "slideshow": {
     "slide_type": "slide"
    }
   },
   "source": [
    "### `Continue`\n",
    "\n",
    "- After `continue`, return to the beginning of the loop\n",
    "- Rejects all the remaining statements in the current iteration of the loop"
   ]
  },
  {
   "cell_type": "code",
   "execution_count": 70,
   "metadata": {
    "slideshow": {
     "slide_type": "subslide"
    }
   },
   "outputs": [
    {
     "name": "stdout",
     "output_type": "stream",
     "text": [
      "Current letter:  G\n",
      "Current letter:  n\n",
      "Current letter:  d\n",
      "Current letter:  l\n",
      "Current letter:  f\n"
     ]
    }
   ],
   "source": [
    "for letter in 'Gandalf':\n",
    "    if letter == 'a':\n",
    "        continue\n",
    "    print('Current letter: ', letter)"
   ]
  },
  {
   "cell_type": "markdown",
   "metadata": {
    "slideshow": {
     "slide_type": "slide"
    }
   },
   "source": [
    "### List comprehensions\n",
    "\n",
    "Short way to create lists. Instead of\n",
    "\n",
    "```python\n",
    "squares = []\n",
    "for i in range(10):\n",
    "    squares.append(i**2)\n",
    "```\n",
    "\n",
    "we can simply write \n",
    "\n",
    "```python\n",
    "squares = [i**2 for i in range(10)]\n",
    "```"
   ]
  },
  {
   "cell_type": "markdown",
   "metadata": {
    "slideshow": {
     "slide_type": "slide"
    }
   },
   "source": [
    "### Exercise 5\n",
    "\n",
    "Write a programme that counts the number of characters for the Hogwarts houses in the following list of strings:\n",
    "\n",
    "```python\n",
    "strings = ['Gryffindor', 'Ravenclaw', 'Hufflepuff', 'Slytherin']\n",
    "```\n",
    "\n",
    "If the number of characters is even, the programme should print the name of the house. "
   ]
  },
  {
   "cell_type": "code",
   "execution_count": 68,
   "metadata": {
    "slideshow": {
     "slide_type": "notes"
    }
   },
   "outputs": [
    {
     "name": "stdout",
     "output_type": "stream",
     "text": [
      "Ravenclaw\n",
      "Slytherin\n"
     ]
    }
   ],
   "source": [
    "strings = ['Gryffindor', 'Ravenclaw', 'Hufflepuff', 'Slytherin']\n",
    "\n",
    "for string in strings:\n",
    "    if len(string)%2:\n",
    "        print(string)\n",
    "    "
   ]
  },
  {
   "cell_type": "markdown",
   "metadata": {
    "slideshow": {
     "slide_type": "slide"
    }
   },
   "source": [
    "### Final Exercise:\n",
    "\n",
    "![phdcomics](http://www.phdcomics.com/comics/archive/phd090905s.gif)\n",
    "\n",
    "Rewrite Cecilia's code in python3 and hope it doesn't become obsolete before you finish your thesis. "
   ]
  }
 ],
 "metadata": {
  "celltoolbar": "Slideshow",
  "kernelspec": {
   "display_name": "PRINT",
   "language": "python",
   "name": "print"
  },
  "language_info": {
   "codemirror_mode": {
    "name": "ipython",
    "version": 3
   },
   "file_extension": ".py",
   "mimetype": "text/x-python",
   "name": "python",
   "nbconvert_exporter": "python",
   "pygments_lexer": "ipython3",
   "version": "3.7.7"
  }
 },
 "nbformat": 4,
 "nbformat_minor": 4
}
