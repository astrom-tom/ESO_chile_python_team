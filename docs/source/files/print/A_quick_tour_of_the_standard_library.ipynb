{
 "cells": [
  {
   "cell_type": "markdown",
   "metadata": {},
   "source": [
    "# A quick tour of the Python Standard Library\n",
    "\n",
    "\n",
    "A full list of available modules is available here: https://docs.python.org/3.8/library/index.html\n",
    "\n",
    "\"Some of these modules are explicitly designed to encourage and enhance the portability of Python programs by abstracting away platform-specifics into platform-neutral APIs.\"\n",
    "\n",
    "What you need is not there? --> *In addition to the standard library, there is a growing collection of several thousand components (from individual programs and modules to packages and entire application development frameworks), available from the Python Package Index.*\n",
    "\n",
    "\n",
    "It emcompasses a large spectrum of applications: \n",
    " * Text Processing Services\n",
    " * Binary Data Services\n",
    " * **Data Types**\n",
    " * **Numeric and Mathematical Modules**\n",
    " * Functional Programming Modules\n",
    " * File and Directory Access\n",
    " * Data Persistence\n",
    " * Data Compression and Archiving\n",
    " * **File Formats**\n",
    " * Cryptographic Services\n",
    " * **Generic Operating System Services**\n",
    " * Concurrent Execution\n",
    " * contextvars — Context Variables\n",
    " * Networking and Interprocess Communication\n",
    " * Internet Data Handling\n",
    " * Structured Markup Processing Tools\n",
    " * Internet Protocols and Support\n",
    " * Multimedia Services\n",
    " * Internationalization\n",
    " * Program Frameworks\n",
    " * Graphical User Interfaces with Tk\n",
    " * **Development Tools**\n",
    " * **Debugging and Profiling**\n",
    " * Software Packaging and Distribution\n",
    " * Python Runtime Services\n",
    " * Custom Python Interpreters\n",
    " * Importing Modules\n",
    " * Python Language Services\n",
    " * Miscellaneous Services\n",
    " * MS Windows Specific Services\n",
    " * Unix Specific Services\n",
    " * Superseded Modules\n",
    " * Platform specific modules\n",
    "\n",
    "--Let's have a look at some of them more specifically:\n",
    "\n"
   ]
  },
  {
   "cell_type": "markdown",
   "metadata": {},
   "source": [
    "## 1-Data types: the *datetime* module\n",
    "\n",
    "Let you interact with dates and time and make you do operations with them\n"
   ]
  },
  {
   "cell_type": "code",
   "execution_count": null,
   "metadata": {},
   "outputs": [],
   "source": [
    "import datetime #<---We always import the module (even if if comes with python!)\n",
    "\n",
    "help(datetime)\n"
   ]
  },
  {
   "cell_type": "code",
   "execution_count": null,
   "metadata": {},
   "outputs": [],
   "source": [
    "####get the current time:\n",
    "now = datetime.datetime.now()\n",
    "print(now)"
   ]
  },
  {
   "cell_type": "code",
   "execution_count": null,
   "metadata": {},
   "outputs": [],
   "source": [
    "help(now)"
   ]
  },
  {
   "cell_type": "code",
   "execution_count": null,
   "metadata": {},
   "outputs": [],
   "source": [
    "##define a new date:\n",
    "new_date = datetime.datetime(year=2020, month=2, day=3)\n",
    "print(new_date)\n",
    "##be default it will put set at midnight!"
   ]
  },
  {
   "cell_type": "code",
   "execution_count": null,
   "metadata": {},
   "outputs": [],
   "source": [
    "##add time:\n",
    "new_date2 = datetime.datetime(year=2020, month=2, day=2, hour=4, minute=5, second=8)\n",
    "print(new_date2)"
   ]
  },
  {
   "cell_type": "code",
   "execution_count": null,
   "metadata": {},
   "outputs": [],
   "source": [
    "##date is an object (class) so we can access some of the attributes:\n",
    "print(new_date2.year)\n",
    "print(new_date2.minute)\n",
    "print(new_date2.second)"
   ]
  },
  {
   "cell_type": "code",
   "execution_count": null,
   "metadata": {},
   "outputs": [],
   "source": [
    "##replace\n",
    "new_date2.replace(day=26)"
   ]
  },
  {
   "cell_type": "code",
   "execution_count": null,
   "metadata": {},
   "outputs": [],
   "source": [
    "##convert to string\n",
    "print(str(new_date2))\n",
    "print(new_date2.isoformat())"
   ]
  },
  {
   "cell_type": "code",
   "execution_count": null,
   "metadata": {},
   "outputs": [],
   "source": [
    "###time interval\n",
    "interval = datetime.timedelta(hours=3, minutes=2)\n",
    "print(interval)"
   ]
  },
  {
   "cell_type": "code",
   "execution_count": null,
   "metadata": {},
   "outputs": [],
   "source": [
    "#operations\n",
    "new_date2 + interval"
   ]
  },
  {
   "cell_type": "markdown",
   "metadata": {},
   "source": [
    "## 2-Mathematics: the *math* module\n",
    "\n",
    "Provide all the usual mathematical functions: sin, cosin, tan, exp, log, log10, pow (<--> **), sqrt, "
   ]
  },
  {
   "cell_type": "code",
   "execution_count": null,
   "metadata": {},
   "outputs": [],
   "source": [
    "import math\n",
    "print('cos', math.cos(1))\n",
    "print('sin', math.sin(1))\n",
    "print('tan', math.tan(1))\n",
    "print('exp', math.exp(1))\n",
    "print('log', math.log(1))"
   ]
  },
  {
   "cell_type": "code",
   "execution_count": null,
   "metadata": {},
   "outputs": [],
   "source": [
    "##constants\n",
    "print('pi', math.pi)\n",
    "print('e', math.e)\n",
    "print('inf', math.inf)"
   ]
  },
  {
   "cell_type": "code",
   "execution_count": null,
   "metadata": {},
   "outputs": [],
   "source": [
    "###rounding:\n",
    "print(math.ceil(2.8))\n",
    "print(math.floor(2.8))"
   ]
  },
  {
   "cell_type": "code",
   "execution_count": null,
   "metadata": {},
   "outputs": [],
   "source": [
    "###other useful stuff\n",
    "math.isclose(1.324, 1.326, rel_tol=0.1)"
   ]
  },
  {
   "cell_type": "markdown",
   "metadata": {},
   "source": [
    "## 3- Another useful one: *random*"
   ]
  },
  {
   "cell_type": "code",
   "execution_count": null,
   "metadata": {},
   "outputs": [],
   "source": [
    "import random\n",
    "help(random)"
   ]
  },
  {
   "cell_type": "code",
   "execution_count": null,
   "metadata": {},
   "outputs": [],
   "source": [
    "###random choice in a know sequence\n",
    "i = 0\n",
    "while i<10:\n",
    "    print(random.choice([1,2,3,4,5]))\n",
    "    i += 1"
   ]
  },
  {
   "cell_type": "code",
   "execution_count": null,
   "metadata": {},
   "outputs": [],
   "source": [
    "###same but extract more than one element\n",
    "i = 0\n",
    "while i<10:\n",
    "    print(random.choices([1,2,3,4,5], k = 2))\n",
    "    i += 1"
   ]
  },
  {
   "cell_type": "code",
   "execution_count": null,
   "metadata": {},
   "outputs": [],
   "source": [
    "##random generation of integers\n",
    "random.randint(2,6)"
   ]
  },
  {
   "cell_type": "code",
   "execution_count": null,
   "metadata": {},
   "outputs": [],
   "source": [
    "###random shuffling\n",
    "a = [1,2,3,4,5,6]\n",
    "random.shuffle(a)\n",
    "print(a)"
   ]
  },
  {
   "cell_type": "code",
   "execution_count": null,
   "metadata": {},
   "outputs": [],
   "source": [
    "##gaussian generation\n",
    "random.gauss(0, 1) #mu = 0, sigma = 1"
   ]
  },
  {
   "cell_type": "markdown",
   "metadata": {},
   "source": [
    "## 4 - File Format : The *configparser* module (user interface #1)"
   ]
  },
  {
   "cell_type": "code",
   "execution_count": null,
   "metadata": {},
   "outputs": [],
   "source": [
    "import configparser \n",
    "help(configparser)"
   ]
  },
  {
   "cell_type": "code",
   "execution_count": null,
   "metadata": {},
   "outputs": [],
   "source": [
    "config = configparser.ConfigParser()  ###<---first we need to create a configparser object"
   ]
  },
  {
   "cell_type": "code",
   "execution_count": null,
   "metadata": {},
   "outputs": [],
   "source": [
    "##then we can read one:\n",
    "config.read('configparse.txt')\n",
    "config.sections()"
   ]
  },
  {
   "cell_type": "code",
   "execution_count": null,
   "metadata": {},
   "outputs": [],
   "source": [
    "#let's enter into section1\n",
    "sect1 = config['section1']"
   ]
  },
  {
   "cell_type": "code",
   "execution_count": null,
   "metadata": {},
   "outputs": [],
   "source": [
    "###we can access the element of section using 'get'\n",
    "sect1.get('element1')"
   ]
  },
  {
   "cell_type": "code",
   "execution_count": null,
   "metadata": {},
   "outputs": [],
   "source": [
    "##-->By default it will come as a string but you also have getfloat(), getboolean(), getint()\n",
    "a = sect1.getint('element1')\n",
    "print(type(a), a)\n",
    "\n",
    "###if you use the wrong 'get...' you will have a runtime 'ValueError'\n",
    "b = sect1.getboolean('element1')"
   ]
  },
  {
   "cell_type": "code",
   "execution_count": null,
   "metadata": {},
   "outputs": [],
   "source": [
    "###accessing directly the elements is equivalent to accessing a nested directory\n",
    "print(config['section1']['element1'])"
   ]
  },
  {
   "cell_type": "markdown",
   "metadata": {},
   "source": [
    "You can also write back configuration files:"
   ]
  },
  {
   "cell_type": "code",
   "execution_count": null,
   "metadata": {},
   "outputs": [],
   "source": [
    "#let's modify the configuration\n",
    "config['section1']['addition1'] = '100000'"
   ]
  },
  {
   "cell_type": "code",
   "execution_count": null,
   "metadata": {},
   "outputs": [],
   "source": [
    "##and save it back:\n",
    "with open('configparse2.txt', 'w') as F:\n",
    "    config.write(F)"
   ]
  },
  {
   "cell_type": "markdown",
   "metadata": {},
   "source": [
    "## 4- operating system module: os and os.path\n",
    "\n",
    "os: to use use operating system dependent functionality\n",
    "os.path: to manipulate paths"
   ]
  },
  {
   "cell_type": "code",
   "execution_count": null,
   "metadata": {},
   "outputs": [],
   "source": [
    "import os\n",
    "os.environ ##get environment variables"
   ]
  },
  {
   "cell_type": "code",
   "execution_count": null,
   "metadata": {},
   "outputs": [],
   "source": [
    "##home directory\n",
    "os.environ['HOME']"
   ]
  },
  {
   "cell_type": "code",
   "execution_count": null,
   "metadata": {},
   "outputs": [],
   "source": [
    "##get current working directory\n",
    "os.getcwd()"
   ]
  },
  {
   "cell_type": "code",
   "execution_count": null,
   "metadata": {},
   "outputs": [],
   "source": [
    "###working with files and directories:\n",
    "\n",
    "#Change directory\n",
    "os.chdir('../')\n",
    "print(os.getcwd())\n",
    "\n",
    "os.chdir('/Users/romainthomas/Downloads')\n",
    "print(os.getcwd())"
   ]
  },
  {
   "cell_type": "code",
   "execution_count": null,
   "metadata": {},
   "outputs": [],
   "source": [
    "###list all files in a directory\n",
    "a = os.listdir()\n",
    "print(a)"
   ]
  },
  {
   "cell_type": "code",
   "execution_count": null,
   "metadata": {},
   "outputs": [],
   "source": [
    "##create directory\n",
    "os.mkdir('testmkdir') ##<---you can write os.mkdir('testmkdir/test_lower') ONLY IF testmkdir exists!\n",
    "                      ##use os.makedirs instead to create the intermediate ones (recursive mkdir)\n",
    "os.listdir()"
   ]
  },
  {
   "cell_type": "code",
   "execution_count": null,
   "metadata": {},
   "outputs": [],
   "source": [
    "###remove file and directories\n",
    "os.remove('configparse2.txt')\n",
    "os.rmdir('testmkdir')"
   ]
  },
  {
   "cell_type": "code",
   "execution_count": null,
   "metadata": {},
   "outputs": [],
   "source": [
    "##get the absolute path of a given file\n",
    "os.path.abspath('configparse.txt')"
   ]
  },
  {
   "cell_type": "code",
   "execution_count": null,
   "metadata": {},
   "outputs": [],
   "source": [
    "###get the name file based on the absolute path\n",
    "os.path.basename('/Users/romainthomas/Downloads/configparse.txt')"
   ]
  },
  {
   "cell_type": "code",
   "execution_count": null,
   "metadata": {},
   "outputs": [],
   "source": [
    "###get the path only\n",
    "os.path.dirname('/Users/romainthomas/Downloads/configparse.txt')"
   ]
  },
  {
   "cell_type": "code",
   "execution_count": null,
   "metadata": {},
   "outputs": [],
   "source": [
    "##get both at once\n",
    "os.path.split('/Users/romainthomas/Downloads/configparse.txt') ###<---returns a tuple!!!"
   ]
  },
  {
   "cell_type": "code",
   "execution_count": null,
   "metadata": {},
   "outputs": [],
   "source": [
    "##check if the file is there\n",
    "os.path.isfile('/Users/romainthomas/Downloads/configparse.txt')"
   ]
  },
  {
   "cell_type": "code",
   "execution_count": null,
   "metadata": {},
   "outputs": [],
   "source": [
    "##check if the directory is there:\n",
    "os.path.isdir('/Users/romainthomas/Downloads')"
   ]
  },
  {
   "cell_type": "code",
   "execution_count": null,
   "metadata": {},
   "outputs": [],
   "source": [
    "##join paths\n",
    "os.path.join('/Users/romainthomas/Downloads', 'configparse.txt')"
   ]
  },
  {
   "cell_type": "code",
   "execution_count": null,
   "metadata": {},
   "outputs": [],
   "source": [
    "##split path\n",
    "os.path.split('/Users/romainthomas/Downloads/configparse.txt')"
   ]
  },
  {
   "cell_type": "markdown",
   "metadata": {},
   "source": [
    "## 5 - Command line interface - *argparse* (user interface #2)"
   ]
  },
  {
   "cell_type": "code",
   "execution_count": null,
   "metadata": {},
   "outputs": [],
   "source": [
    "import argparse\n",
    "help(argparse)"
   ]
  },
  {
   "cell_type": "code",
   "execution_count": null,
   "metadata": {},
   "outputs": [],
   "source": [
    "parser = argparse.ArgumentParser(description='example')  ###create a parser object \n",
    "                                                         ##the description will be shown in\n",
    "                                                         ##the help function\n",
    "##then we must add argument that the user will use to use the script\n",
    "parser.add_argument('positional', type=int, help='an integer')\n",
    "parser.add_argument('--bool', action='store_true', help='This is a boolean argument')\n",
    "parser.add_argument('--optional2', type=float, default=3.0, help='example of help2')\n",
    "\n",
    "###faking user arguments \n",
    "user = \"2 --bool\" ###to fake the \n",
    "\n",
    "args = parser.parse_args(user.split())\n",
    "\n",
    "print(args.bool, args.positional, args.optional2)\n"
   ]
  },
  {
   "cell_type": "code",
   "execution_count": null,
   "metadata": {},
   "outputs": [],
   "source": [
    "###faking user arguments \n",
    "user = \"5  --optional2 4\" ###to fake the \n",
    "\n",
    "args = parser.parse_args(user.split())\n",
    "\n",
    "print(args.bool, args.positional, args.optional2)\n"
   ]
  },
  {
   "cell_type": "code",
   "execution_count": null,
   "metadata": {},
   "outputs": [],
   "source": [
    "user = \"--help\"\n",
    "args = parser.parse_args(user.split())\n"
   ]
  },
  {
   "cell_type": "markdown",
   "metadata": {},
   "source": [
    "## 6 - A bit of testing with unittest\n"
   ]
  },
  {
   "cell_type": "code",
   "execution_count": null,
   "metadata": {},
   "outputs": [],
   "source": [
    "##let's define a function\n",
    "def func(x):\n",
    "    '''\n",
    "    function that takes a number\n",
    "    and return the square of it\n",
    "    Parameters\n",
    "    ----------\n",
    "    x         : float\n",
    "                number that we take the square of\n",
    "    Return\n",
    "    ------\n",
    "    x_squared : float\n",
    "                square of x\n",
    "    '''\n",
    "    x_squared = x * x\n",
    "    return x_squared"
   ]
  },
  {
   "cell_type": "code",
   "execution_count": null,
   "metadata": {},
   "outputs": [],
   "source": [
    "###let's test it\n",
    "import unittest\n",
    "\n",
    "'''\n",
    "The basic building blocks of unit testing are test cases — single scenarios that must be set up \n",
    "and checked for correctness. In unittest, test cases are represented by unittest.TestCase instances. \n",
    "To make your own test cases you must write subclasses of TestCase or use FunctionTestCase.\n",
    "'''\n",
    "\n",
    "class testclass(unittest.TestCase):\n",
    "    \n",
    "    def test_func_with_positive_value(self):\n",
    "        input_n = 2\n",
    "        output = func(input_n)  \n",
    "        expected = 4\n",
    "        self.assertEqual(output, expected)\n",
    "        \n",
    "        \n",
    "    def test_func_with_negative_value(self):\n",
    "        input_n = -2\n",
    "        output = func(input_n)\n",
    "        \n",
    "        expected = 4\n",
    "        self.assertEqual(output, expected)"
   ]
  },
  {
   "cell_type": "code",
   "execution_count": null,
   "metadata": {},
   "outputs": [],
   "source": [
    "###then we run them!\n",
    "unittest.main(argv=[''], verbosity=3, exit=False)"
   ]
  },
  {
   "cell_type": "markdown",
   "metadata": {},
   "source": [
    "## 7 - A very tiny bit of profiling"
   ]
  },
  {
   "cell_type": "code",
   "execution_count": null,
   "metadata": {},
   "outputs": [],
   "source": [
    "a = [1,2,3,4,5,6]\n",
    "%timeit a.copy()"
   ]
  },
  {
   "cell_type": "code",
   "execution_count": null,
   "metadata": {},
   "outputs": [],
   "source": [
    "%timeit a[:]"
   ]
  },
  {
   "cell_type": "code",
   "execution_count": null,
   "metadata": {},
   "outputs": [],
   "source": [
    "import timeit\n",
    "timeit.timeit('\"-\".join([str(n) for n in range(100)])')"
   ]
  },
  {
   "cell_type": "code",
   "execution_count": null,
   "metadata": {},
   "outputs": [],
   "source": [
    "help(timeit.timeit)"
   ]
  },
  {
   "cell_type": "markdown",
   "metadata": {},
   "source": [
    "## 8 - list of other useful modules\n",
    "\n",
    "* Parallel execution -->multiprocessing, threading\n",
    "* debugging --> pdb\n",
    "* compressed files handling --> zipfile, tarfile, gzip\n",
    "* databases --> sqlite3\n",
    "* save stuff in disk --> Pickle\n",
    "* csv file --> csv\n",
    "* starting external command --> subprocess"
   ]
  }
 ],
 "metadata": {
  "kernelspec": {
   "display_name": "Python 3",
   "language": "python",
   "name": "python3"
  },
  "language_info": {
   "codemirror_mode": {
    "name": "ipython",
    "version": 3
   },
   "file_extension": ".py",
   "mimetype": "text/x-python",
   "name": "python",
   "nbconvert_exporter": "python",
   "pygments_lexer": "ipython3",
   "version": "3.6.2"
  }
 },
 "nbformat": 4,
 "nbformat_minor": 4
}
