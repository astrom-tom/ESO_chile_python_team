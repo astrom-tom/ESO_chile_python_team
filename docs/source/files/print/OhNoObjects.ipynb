{
 "cells": [
  {
   "cell_type": "markdown",
   "metadata": {},
   "source": [
    "An iPython notebook on coding objects in python!\n",
    "\n",
    "Author: Trystyn Berg\n",
    "email: tberg@eso.org"
   ]
  },
  {
   "cell_type": "markdown",
   "metadata": {},
   "source": [
    "An object in programming is a collection of routines/operations and data that are all related. Objects are therefore convenient for providing quick and convenient operations.\n",
    "\n",
    "Let's introduce some terminology with object-like things you are familiar with -- lists in python. (I say object-like because although it is technically not an object, it behaves like an object....)\n",
    "\n",
    "-A method is a function that operates on the object.\n",
    "For lists, you have seen this with list.append(value) or list.index(value); append and index are methods of the list \"object\"\n",
    "\n",
    "-More generally, an attribute refers to some descriptor of the object. It can be used to represent a variable or a method.\n"
   ]
  },
  {
   "cell_type": "markdown",
   "metadata": {},
   "source": [
    "Let's jump right in by creating a simple object. There's a lot of information here, so take some time to digest it."
   ]
  },
  {
   "cell_type": "code",
   "execution_count": 1,
   "metadata": {},
   "outputs": [],
   "source": [
    "#Defining an object makes use of the 'class' syntax in python.\n",
    "#It is similar to defining a function using 'def', but typically there are no argument provided in this line\n",
    "\n",
    "class MyFirstObject():\n",
    "\n",
    "    \n",
    "    #Within the class, you can define any functions or variables. \n",
    "    \n",
    "    #Let's define a data attribute, which is a variable within a class\n",
    "    myint = 5\n",
    "    \n",
    "    #And let's define a method attribute, which is a function within a class.\n",
    " \n",
    "    def myfunc(self, a, b):\n",
    "        print('Within MyFirstObject -- The value of a is:',a)\n",
    "        return b\n",
    "    '''\n",
    "    Note that the first argument of any function within a class must be 'self'.\n",
    "    The useage of self is a way of making all the attributes of a class accessible\n",
    "    within the object.\n",
    "    \n",
    "    If you imagine that you are the object, you would make reference to one's \"self\"\n",
    "    when you are describing the properties of the object. That is effectively the purpose,\n",
    "    but the self descriptor will make more sense as we make more complicated objects.\n",
    "    '''"
   ]
  },
  {
   "cell_type": "code",
   "execution_count": 2,
   "metadata": {},
   "outputs": [
    {
     "name": "stdout",
     "output_type": "stream",
     "text": [
      "The value of myint: 5\n",
      "Within MyFirstObject -- The value of a is: Hello\n",
      "The value of b is: 2\n"
     ]
    }
   ],
   "source": [
    "#you can then create an 'instance' of the object by calling the class\n",
    "myobj = MyFirstObject()\n",
    "\n",
    "#You can access any data attribute by name (as an 'instance attribute')\n",
    "print(\"The value of myint:\", myobj.myint)\n",
    "\n",
    "#You can run the method attribute as well\n",
    "b = myobj.myfunc(\"Hello\", 2)\n",
    "print(\"The value of b is:\", b)\n"
   ]
  },
  {
   "cell_type": "code",
   "execution_count": 3,
   "metadata": {},
   "outputs": [
    {
     "name": "stdout",
     "output_type": "stream",
     "text": [
      "The value of myint: 5\n",
      "The value of myint: 4\n"
     ]
    }
   ],
   "source": [
    "#Once you have created an instance of an object, you can edit any attributes with the following syntax\n",
    "print(\"The value of myint:\", myobj.myint)\n",
    "myobj.myint = 4\n",
    "print(\"The value of myint:\", myobj.myint)"
   ]
  },
  {
   "cell_type": "code",
   "execution_count": 4,
   "metadata": {},
   "outputs": [
    {
     "name": "stdout",
     "output_type": "stream",
     "text": [
      "The value of myobj.myint: 3\n",
      "Is there an echo?\n",
      "Is there an echo?\n",
      "Is there an echo?\n"
     ]
    }
   ],
   "source": [
    "#Let's get into a bit more details now.\n",
    "#Let's make a new object similar to MyFirstObject\n",
    "\n",
    "#Objects frequently need to be initialised when you create an instant (called 'instantiation')\n",
    "#This includes defining some of the attributes that set-up the object.\n",
    "\n",
    "#To do this, one needs to define a 'special' python method called __init__ (yes, those are double underscores).\n",
    "#This special method is run when you create the first instant of your object.\n",
    "#Here, you can pass any variables/inputs into the object for 'instantiation'.\n",
    "\n",
    "class MySecondObject():\n",
    "    \n",
    "    #Define the 'instantiation' method, which requires the self argument plus any additional arguments you\n",
    "    #need to initialize the object. For example, we can set myint here. Note that we have redefined myint\n",
    "    #as self.myint. This allows the myint variable to be accessed throughout the object, such as within myfunc.\n",
    "    \n",
    "    def __init__(self, myint_init):\n",
    "        self.myint = myint_init\n",
    "    \n",
    "    def myfunc(self, a):\n",
    "        #Let's redefine myfunc to print a as many times as self.myint.\n",
    "        for ii in range(self.myint): print(a)\n",
    "\n",
    "            \n",
    "#Now when you creat a MySecondObject instance, you need to provide a integer\n",
    "myobj = MySecondObject(3)\n",
    "\n",
    "#Let's see if myobj stored it\n",
    "print(\"The value of myobj.myint:\", myobj.myint)\n",
    "\n",
    "#And let's check how many times the string \"Is there an echo?\" is printed \n",
    "myobj.myfunc(\"Is there an echo?\")"
   ]
  },
  {
   "cell_type": "code",
   "execution_count": 6,
   "metadata": {},
   "outputs": [
    {
     "data": {
      "text/plain": [
       "'\\nEXERCISE ONE:\\n\\nCreate an instance of MySecondObject and print a string of your choice 5 times.\\n'"
      ]
     },
     "execution_count": 6,
     "metadata": {},
     "output_type": "execute_result"
    }
   ],
   "source": [
    "'''\n",
    "EXERCISE ONE:\n",
    "\n",
    "Create an instance of MySecondObject and print a string of your choice 5 times.\n",
    "'''"
   ]
  },
  {
   "cell_type": "code",
   "execution_count": 9,
   "metadata": {},
   "outputs": [],
   "source": [
    "#Let's take a careful look at when to make a variable self.\n",
    "\n",
    "#The goal of MyThirdObject is to generate the first n-numbers of the Fibonacci sequence.\n",
    "#Take a careful look at this object, and see how self is referenced for both variables and functions that \n",
    "#belong to the object and need to be stored/updated, and when variables are not stored as attributes\n",
    "\n",
    "class MyThirdObject():\n",
    "    def __init__(self):\n",
    "        #Initialize the object by defining self.a and self.b by running the reset attribute method.\n",
    "        self.reset()\n",
    "\n",
    "    def reset(self):\n",
    "        #Reset the a/b attributes to the starting position of the sequence\n",
    "        self.a = 0\n",
    "        self.b = 1\n",
    "        \n",
    "    def get_next(self):\n",
    "        #The next number in the sequence is the sum of the last two numbers, self.a and self.b\n",
    "        nextnumber = self.a + self.b\n",
    "        #We need to update the last two numbers appropriately\n",
    "        self.a = self.b\n",
    "        self.b = nextnumber\n",
    "        #Return the next number\n",
    "        return nextnumber\n",
    "    \n",
    "    def get_N_next(self,N):\n",
    "        #Get the N next numbers, and return as a list\n",
    "        nextns=[]\n",
    "        for ii in range(N):\n",
    "            #Call the method get_next() N times\n",
    "            nextns.append(self.get_next())\n",
    "        return nextns"
   ]
  },
  {
   "cell_type": "code",
   "execution_count": 13,
   "metadata": {},
   "outputs": [
    {
     "name": "stdout",
     "output_type": "stream",
     "text": [
      "The first two numbers of the Fibonnaci sequence are: 0 1\n",
      "\n",
      "The current values of FIB.a and FIB.b are: 0 1\n",
      "The next number of the Fibonnaci sequence is: 1\n",
      "\n",
      "The current values of FIB.a and FIB.b are: 1 1\n",
      "The next number of the Fibonnaci sequence is: 2\n",
      "\n",
      "The current values of FIB.a and FIB.b are: 1 2\n",
      "The next 5 numbers of the Fibonnaci sequence are: [3, 5, 8, 13, 21]\n",
      "\n",
      "The current values of FIB.a and FIB.b are: 13 21\n",
      "\n",
      "After resetting, FIB.a and FIB.b are 0 1\n"
     ]
    }
   ],
   "source": [
    "#Let's create an instance\n",
    "FIB = MyThirdObject()\n",
    "\n",
    "#Now let's generate the next numbers of the sequence a few times using the get_next and get_N_next methods\n",
    "#Notice how FIB.a and FIB.b change as we call these methods -- they are continuously being updated!\n",
    "\n",
    "n1 = FIB.a\n",
    "n2 = FIB.b\n",
    "print(\"The first two numbers of the Fibonnaci sequence are:\", FIB.a, FIB.b)\n",
    "\n",
    "print(\"\\nThe current values of FIB.a and FIB.b are:\", FIB.a, FIB.b)\n",
    "n3 = FIB.get_next()\n",
    "print(\"The next number of the Fibonnaci sequence is:\", n3)\n",
    "\n",
    "\n",
    "print(\"\\nThe current values of FIB.a and FIB.b are:\", FIB.a, FIB.b)\n",
    "n4 = FIB.get_next()\n",
    "print(\"The next number of the Fibonnaci sequence is:\", n4)\n",
    "\n",
    "#This is tideous, let's generate a list of the next 5 numbers\n",
    "print(\"\\nThe current values of FIB.a and FIB.b are:\", FIB.a, FIB.b)\n",
    "print(\"The next 5 numbers of the Fibonnaci sequence are:\", FIB.get_N_next(5))\n",
    "\n",
    "print(\"\\nThe current values of FIB.a and FIB.b are:\", FIB.a, FIB.b)\n",
    "\n",
    "#Lastly, reset the counter\n",
    "FIB.reset()\n",
    "print(\"\\nAfter resetting, FIB.a and FIB.b are\", FIB.a, FIB.b)"
   ]
  },
  {
   "cell_type": "code",
   "execution_count": 14,
   "metadata": {},
   "outputs": [
    {
     "ename": "AttributeError",
     "evalue": "'MyThirdObject' object has no attribute 'nextnumber'",
     "output_type": "error",
     "traceback": [
      "\u001b[0;31m---------------------------------------------------------------------------\u001b[0m",
      "\u001b[0;31mAttributeError\u001b[0m                            Traceback (most recent call last)",
      "\u001b[0;32m<ipython-input-14-6f1b5672695e>\u001b[0m in \u001b[0;36m<module>\u001b[0;34m\u001b[0m\n\u001b[1;32m      1\u001b[0m \u001b[0;31m#Te object FIB can keep track of a/b. What about the nextnumber variable created within the get_next method?\u001b[0m\u001b[0;34m\u001b[0m\u001b[0;34m\u001b[0m\u001b[0;34m\u001b[0m\u001b[0m\n\u001b[1;32m      2\u001b[0m \u001b[0mFIB\u001b[0m\u001b[0;34m.\u001b[0m\u001b[0mget_next\u001b[0m\u001b[0;34m(\u001b[0m\u001b[0;34m)\u001b[0m\u001b[0;34m\u001b[0m\u001b[0;34m\u001b[0m\u001b[0m\n\u001b[0;32m----> 3\u001b[0;31m \u001b[0mprint\u001b[0m\u001b[0;34m(\u001b[0m\u001b[0;34m\"The value of next is:\"\u001b[0m\u001b[0;34m,\u001b[0m \u001b[0mFIB\u001b[0m\u001b[0;34m.\u001b[0m\u001b[0mnextnumber\u001b[0m\u001b[0;34m)\u001b[0m\u001b[0;34m\u001b[0m\u001b[0;34m\u001b[0m\u001b[0m\n\u001b[0m",
      "\u001b[0;31mAttributeError\u001b[0m: 'MyThirdObject' object has no attribute 'nextnumber'"
     ]
    }
   ],
   "source": [
    "#Te object FIB can keep track of a/b. What about the nextnumber variable created within the get_next method?\n",
    "FIB.get_next()\n",
    "print(\"The value of next is:\", FIB.nextnumber)"
   ]
  },
  {
   "cell_type": "markdown",
   "metadata": {},
   "source": [
    "The code crashes because nextnumber is NOT an attribute of the MyThirdObject classs!\n",
    "Although the variable exists within MyThirdObject, it is not stored as an attribute.\n",
    "This is done to save memory, as nextnumber is only a temporary variable.\n",
    "\n",
    "To save next as an attribute, once must redefine the variable nextnumber as self.nextnumber instead.\n",
    "But it is only needed if the object needs to get that attribute again\n",
    "\n",
    "\n",
    "The take-aways from this should be:\n",
    "1) the self syntax is a manner of defining attributes of the object!\n",
    "2) Variables and functions that are not used in any other attribute should not be stored as an attribute (it takes up memory!)"
   ]
  },
  {
   "cell_type": "code",
   "execution_count": 30,
   "metadata": {},
   "outputs": [],
   "source": [
    "'''\n",
    "EXERCISE TWO:\n",
    "\n",
    "Create a class called MathList. This object will allow you to do mathematical operations on a list!\n",
    "\n",
    "It must have the following three attributes:\n",
    "1) mylist -- a list of floats/integers that is initialized as an attribute within __init__\n",
    "\n",
    "2) add -- a function that takes a float as an argument, and returns a new list\n",
    "whose indicies are the sum of the argument with the indicies of mylist.\n",
    "e.g. mylist=[1,3] with add(2) should return [3,5]\n",
    "\n",
    "\n",
    "3) multiply -- a function that takes a float as an argument, and returns a new list\n",
    "whose indicies are the product of the argument with the indicies of mylist.\n",
    "e.g. mylist=[1,3] with multiply(2) should return [2,6]\n",
    "\n",
    "A skeleton of the code is provided to get you started\n",
    "'''\n",
    "\n",
    "class MathList():\n",
    "    def __init__():\n",
    "        #Define and initalize the attribute mylist here\n",
    "        \n",
    "        \n",
    "    def add():\n",
    "        #Create a new list\n",
    "        #Take each element of mylist, add the factor passed to this method to the element, and place it in the new list\n",
    "        \n",
    "        #Return the new list\n",
    "        return\n",
    "    \n",
    "    def multiply():\n",
    "        #Create a new list\n",
    "        #Take each element of mylist, multiply the factor passed to this method to the element, and place it in the new list\n",
    "        \n",
    "        #Return the new list\n",
    "        return"
   ]
  },
  {
   "cell_type": "code",
   "execution_count": 33,
   "metadata": {},
   "outputs": [
    {
     "name": "stdout",
     "output_type": "stream",
     "text": [
      "You have successfully completed the exercise!\n"
     ]
    }
   ],
   "source": [
    "#Evaluation of exercise two\n",
    "obj = MathList([1,2,3])\n",
    "\n",
    "\n",
    "if obj.mylist != [1,2,3]:\n",
    "    print(\"MyObject is not initialized properly. Make sure __init__ function is defined\")\n",
    "\n",
    "elif obj.add(2)!= [3,4,5]:\n",
    "    print(\"Add function of MyObject does not behave properly. Please check.\")\n",
    "\n",
    "elif obj.multiply(2)!= [2,4,6]:\n",
    "    print(\"multiply function of MyObject does not behave properly. Please check.\")\n",
    "else:\n",
    "    print(\"You have successfully completed the exercise!\")\n"
   ]
  },
  {
   "cell_type": "markdown",
   "metadata": {},
   "source": [
    "You now have an object that can do matho on lists! Feel free to add your own operations to the object.\n",
    "\n",
    "I do not have time, but if you find yourselves writing more and more python objects,\n",
    "you should be aware of:\n",
    "    \n",
    "1) Python has many special, pre-defined methods for classes. These include __call__, __main__, and __dict__.\n",
    "The methods may be of use to you when you develop more complex objects.\n",
    "\n",
    "2) When defining the object's class, you can pass arguments in the parentheses, e.g. class MyObject(InputObject)\n",
    "This is called 'inheritance', as the MyObject object will inherit all the attributes of InputObject into its self!\n",
    "\n",
    "3) Objects are what drive any graphical user interface (GUI). Once you have a handle on objects, writing GUIs is a breeze.\n",
    "Check out TKinter or PyQT if you want to write a GUI.\n",
    "\n",
    "\n",
    "Feel free to contact me by email if you have any questions!"
   ]
  }
 ],
 "metadata": {
  "kernelspec": {
   "display_name": "Python 3",
   "language": "python",
   "name": "python3"
  },
  "language_info": {
   "codemirror_mode": {
    "name": "ipython",
    "version": 3
   },
   "file_extension": ".py",
   "mimetype": "text/x-python",
   "name": "python",
   "nbconvert_exporter": "python",
   "pygments_lexer": "ipython3",
   "version": "3.6.9"
  }
 },
 "nbformat": 4,
 "nbformat_minor": 4
}
