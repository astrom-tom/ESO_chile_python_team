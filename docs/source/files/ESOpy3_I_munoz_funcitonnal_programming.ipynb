{
 "cells": [
  {
   "cell_type": "markdown",
   "metadata": {},
   "source": [
    "# Functional programming concepts\n",
    "\n",
    "## What?\n",
    "The simplest and most pure characteristic is the **absence of side effects**.\n",
    "i.e. no external state is considered and no data is changed.\n",
    "\n",
    "Since this is a huge topic, we will present some basic concepts as an introduction.\n",
    "\n",
    "## Python functional modules\n",
    "- functools\n",
    "- itertools\n",
    "\n",
    "### Laundry list\n",
    "\n",
    "- Functions are first class objects. Same as *int*, *string*, etc ...\n",
    "- Recursion is used as a primary control structure (no *for* or *while*)\n",
    "- Strong list processing\n",
    "- \"Pure\" functional languages eschew side-effects. \n",
    "- FP worries about what is to be computed rather than how it is to be computed.\n",
    "- Much FP utilizes \"higher order\" functions (in other words, functions that operate on functions that operate on functions).\n",
    "\n",
    "** It's a different mindset **\n",
    "\n",
    "### Advantages\n",
    "- Formal provability.\n",
    "- Modularity.\n",
    "- Composability.\n",
    "\n",
    "- Ease of debugging and testing.\n",
    "\n",
    "Furtehrmore, functional programming code coexists easily with code written in other paradigms.\n",
    "\n",
    "\n",
    "Programming languages support decomposing problems in several different ways:\n",
    "- Procedural (C, Pascal, Python)\n",
    "- Declarative (SQL)\n",
    "- Object Oriented (Smalltalk, Java)\n",
    "- Functional (Lisp, Scala, Haskell)\n",
    "\n"
   ]
  },
  {
   "cell_type": "code",
   "execution_count": 40,
   "metadata": {},
   "outputs": [
    {
     "name": "stdout",
     "output_type": "stream",
     "text": [
      "1\n",
      "24\n",
      "3628800\n"
     ]
    }
   ],
   "source": [
    "# IP factorial\n",
    "def fact(n):\n",
    "    r = 1\n",
    "    if n==0:\n",
    "        return  r\n",
    "    for i in range(1,n+1):\n",
    "        r *=i\n",
    "    return r\n",
    "print(fact(0))\n",
    "print(fact(4))\n",
    "print(fact(10))"
   ]
  },
  {
   "cell_type": "code",
   "execution_count": 21,
   "metadata": {},
   "outputs": [
    {
     "name": "stdout",
     "output_type": "stream",
     "text": [
      "2 24 3628800\n"
     ]
    }
   ],
   "source": [
    "# recursive factorial \n",
    "def FPfact(n):\n",
    "    if n==0:\n",
    "        return 1    \n",
    "    return n * FPfact(n-1)\n",
    "\n",
    "print(FPfact(2), FPfact(4), FPfact(10))\n",
    "\n"
   ]
  },
  {
   "cell_type": "markdown",
   "metadata": {},
   "source": [
    "## Building blocks\n",
    "\n",
    "The basic building blocks are:\n",
    "- map, reduce, filter and lambdas\n",
    "\n",
    "There's a lot of syntactic sugar added over the years\n",
    "- higher order functions\n",
    "- comprehensions\n",
    "- generators\n",
    "- iterators\n"
   ]
  },
  {
   "cell_type": "markdown",
   "metadata": {},
   "source": [
    "### Map, reduce, filter ...\n",
    "*map* applies a function to a list.\n",
    "Notice it does not say *how* to apply the function (hint: The backbone of big data).\n",
    "\n",
    "Do not use *for* to apply a function to a list, use map. More elegant, faster, self-explaining.\n",
    "\n",
    "*lambda* are just anonymous functions.\n"
   ]
  },
  {
   "cell_type": "code",
   "execution_count": 37,
   "metadata": {},
   "outputs": [
    {
     "name": "stdout",
     "output_type": "stream",
     "text": [
      "[4, 5, 4, 6]\n",
      "[0, 1, 4, 9, 16, 25, 36, 49, 64, 81]\n",
      "999\n",
      "24 24\n"
     ]
    },
    {
     "data": {
      "text/plain": [
       "362880"
      ]
     },
     "execution_count": 37,
     "metadata": {},
     "output_type": "execute_result"
    }
   ],
   "source": [
    "# simple examples\n",
    "import operator\n",
    "from functools import reduce\n",
    "\n",
    "\n",
    "ll = map(len, [\"John\", \"Ringo\", \"Paul\",\"George\"])\n",
    "print (list(ll))\n",
    "\n",
    "#\n",
    "sq = map(lambda x: x*x, range(10))\n",
    "print(list(sq))\n",
    "\n",
    "# simple lambda + reduce\n",
    "f = lambda a,b: a if (a > b) else b\n",
    "r = reduce(f, [99,1,100,2,999])\n",
    "print(r)\n",
    "\n",
    "#\n",
    "product = reduce((lambda x, y: x * y), [1, 2, 3, 4])\n",
    "print(product, reduce(operator.mul, range(1,5)))\n",
    "\n",
    "# factorial\n",
    "reduce(lambda n,m:n*m, range(1,10))\n"
   ]
  },
  {
   "cell_type": "markdown",
   "metadata": {},
   "source": [
    "Example: Calculate partially invalid string with operations: \"28+32+++32++39\""
   ]
  },
  {
   "cell_type": "code",
   "execution_count": 34,
   "metadata": {},
   "outputs": [
    {
     "name": "stdout",
     "output_type": "stream",
     "text": [
      "131\n"
     ]
    }
   ],
   "source": [
    "# IP\n",
    "# Imagine one has to debug this ...\n",
    "expr, res = \"28+32+++32++39\", 0\n",
    "#print(expr.split(\"+\"))\n",
    "for t in expr.split(\"+\"):\n",
    "    if t != \"\":\n",
    "        res += int(t)\n",
    "print (res)"
   ]
  },
  {
   "cell_type": "code",
   "execution_count": 30,
   "metadata": {},
   "outputs": [
    {
     "name": "stdout",
     "output_type": "stream",
     "text": [
      "131\n"
     ]
    }
   ],
   "source": [
    "# FP \"purist\"\n",
    "# apply transformations and compositions\n",
    "# easier to debug\n",
    "from functools import reduce\n",
    "from operator import add\n",
    "expr = \"28+32+++32++39\"\n",
    "# f(g(h(p())))\n",
    "print (reduce(add, map(int, filter(bool, expr.split(\"+\")))))"
   ]
  },
  {
   "cell_type": "markdown",
   "metadata": {},
   "source": [
    "\n",
    "List comprehensions can easily replace map + filter"
   ]
  },
  {
   "cell_type": "code",
   "execution_count": 31,
   "metadata": {},
   "outputs": [
    {
     "name": "stdout",
     "output_type": "stream",
     "text": [
      "131\n"
     ]
    }
   ],
   "source": [
    "# Using python's syntax sugar\n",
    "expr = \"28+32+++32++39\"\n",
    "l=[int(x) for x in expr.split(\"+\") if x]   # map + filter\n",
    "print(sum(numbers))   # reduce(add)\n",
    "\n"
   ]
  },
  {
   "cell_type": "markdown",
   "metadata": {},
   "source": [
    "### Exercises\n",
    "- Write a functional avg() function that computes the average of a list of integers\n",
    "- Write a functional count() function that counts the number of occurrences of a character in a string.\n",
    "\n",
    "```python\n",
    "def quantify(iterable, pred=bool):\n",
    "    \"Count how many times the predicate is true\"\n",
    "    return sum(map(pred, iterable))\n",
    "```\n"
   ]
  },
  {
   "cell_type": "markdown",
   "metadata": {},
   "source": [
    "## Iterators and generators\n",
    "### Iterators\n",
    "A special sort of function in Python is one that contains a yield statement, which turns it into a generator. \n",
    "What is returned from calling such a function is not a regular value, but rather an iterator that produces a sequence of values as you call the next() function on it or loop over it.\n",
    "\n",
    "Generators, generate iterators. An example of functions as first class objects.\n"
   ]
  },
  {
   "cell_type": "code",
   "execution_count": 41,
   "metadata": {},
   "outputs": [
    {
     "name": "stdout",
     "output_type": "stream",
     "text": [
      "2 3 5\n",
      "7 11 13 17 19 23 29 31 37 41 "
     ]
    }
   ],
   "source": [
    "### GENERATOR FUNCTIONS\n",
    "\n",
    "def get_primes(): \n",
    "    \"Simple lazy Sieve of Eratosthenes\" \n",
    "    candidate = 2 \n",
    "    found = [] \n",
    "    while True: \n",
    "        if all(candidate % prime != 0 for prime in found): \n",
    "            yield candidate \n",
    "            found.append(candidate) \n",
    "        candidate += 1\n",
    "\n",
    "primes = get_primes() \n",
    "print(next(primes), next(primes), next(primes))\n",
    "# (2, 3, 5) \n",
    "for _, prime in zip(range(10), primes): \n",
    "    print(prime, end=\" \") \n",
    "#    7 11 13 17 19 23 29 31 37 41"
   ]
  },
  {
   "cell_type": "code",
   "execution_count": null,
   "metadata": {
    "collapsed": true
   },
   "outputs": [],
   "source": [
    "### Exercises\n",
    "- Write a generator function that divides a circle in n angles (n is the input)"
   ]
  },
  {
   "cell_type": "markdown",
   "metadata": {},
   "source": [
    "## Further reading\n",
    "- [Links collection](https://github.com/sfermigier/awesome-functional-python)\n",
    "- [Functional Programming HOWTO](https://docs.python.org/3/howto/functional.html#generator-expressions-and-list-comprehensions)\n",
    "- [Functional programming presentation](http://kachayev.github.io/talks/uapycon2012/#/)\n"
   ]
  }
 ],
 "metadata": {
  "kernelspec": {
   "display_name": "Python 3",
   "language": "python",
   "name": "python3"
  },
  "language_info": {
   "codemirror_mode": {
    "name": "ipython",
    "version": 3
   },
   "file_extension": ".py",
   "mimetype": "text/x-python",
   "name": "python",
   "nbconvert_exporter": "python",
   "pygments_lexer": "ipython3",
   "version": "3.6.4"
  }
 },
 "nbformat": 4,
 "nbformat_minor": 2
}
