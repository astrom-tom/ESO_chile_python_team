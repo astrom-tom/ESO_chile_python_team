{
 "cells": [
  {
   "cell_type": "markdown",
   "metadata": {},
   "source": [
    "## Installations before the lecture"
   ]
  },
  {
   "cell_type": "markdown",
   "metadata": {},
   "source": [
    "conda install -c astropy ccdproc (this should also install astropy)<br>\n",
    "conda install -c anaconda astropy (if you don't have already astropy)<br>\n",
    "pip install python-magic-bin (if you have a Mac)<br>\n",
    "pip install dfitspy<br>\n",
    "pip install mpdaf"
   ]
  },
  {
   "cell_type": "markdown",
   "metadata": {},
   "source": [
    "# FITS files handling with python"
   ]
  },
  {
   "cell_type": "markdown",
   "metadata": {},
   "source": [
    "FITS (Flexible Image Transport System) files are a widely used standard format to store images and tables. Python provides tools to create, access and update FITS files. This lecture is largely based on <span style=\"color:blue\">**astropy.io.fits**</span> package, although ways to create and filter list of fits files are provided and a brief overview of other two astropy packages to handle with World Coordinate System (WCS) keywords and with FITS file images is also given.     "
   ]
  },
  {
   "cell_type": "markdown",
   "metadata": {},
   "source": [
    "## Outline"
   ]
  },
  {
   "cell_type": "markdown",
   "metadata": {},
   "source": [
    "1. **Accessing FITS files**<br>\n",
    "[<span style=\"color:blue\">**pathlib**</span>](https://docs.python.org/3/library/pathlib.html) --> Using filesystem paths to create list of files from filenames pattern matching.<br>\n",
    "[<span style=\"color:blue\">**dfitspy**</span>](https://astrom-tom.github.io/dfitspy/build/html/index.html) --> Quickly search within FITS files headers with a practical command line or within python.<br>\n",
    "[<span style=\"color:blue\">*ImageFileCollection*</span>](https://ccdproc.readthedocs.io/en/latest/api/ccdproc.ImageFileCollection.html#ccdproc.ImageFileCollection.glob_include) --> Create a collection of fits files to use convenient iterators within the collection.<br>\n",
    "2. **Working with FITS files headers**<br>\n",
    "[<span style=\"color:blue\">**astropy.io.fits**</span>](http://docs.astropy.org/en/stable/io/fits/) and (in part) [<span style=\"color:blue\">**astropy.wcs**</span>](http://docs.astropy.org/en/stable/wcs/) packages.\n",
    "3. **Working with FITS files data**<br>\n",
    "Again <span style=\"color:blue\">**astropy.io.fits**</span>, but also a bit of [<span style=\"color:blue\">**astropy.nddata**</span>](http://docs.astropy.org/en/stable/nddata/)."
   ]
  },
  {
   "cell_type": "markdown",
   "metadata": {},
   "source": [
    "## Accessing FITS files"
   ]
  },
  {
   "cell_type": "markdown",
   "metadata": {},
   "source": [
    "<span style=\"color:blue\">**pathlib**</span> is an object-oriented default python 3 package to manipulate filesystem paths. I do recommend to use it in your codes for the many methods to create, access and rename directories/files."
   ]
  },
  {
   "cell_type": "code",
   "execution_count": null,
   "metadata": {},
   "outputs": [],
   "source": [
    "from pathlib import Path    # import the main path class\n",
    "\n",
    "# Let's instantiate a path\n",
    "p = Path('.')    # relative path\n",
    "p = Path('/Users/arazza/ESO/Python_Boot_Camp/1904/Day2/')    # absolute path  \n",
    "print(p.is_absolute())"
   ]
  },
  {
   "cell_type": "code",
   "execution_count": null,
   "metadata": {},
   "outputs": [],
   "source": [
    "p"
   ]
  },
  {
   "cell_type": "code",
   "execution_count": null,
   "metadata": {},
   "outputs": [],
   "source": [
    "# Define a path to the list of FITS files\n",
    "pathtofits = p.joinpath('fits_files_folder')\n",
    "print(pathtofits.is_dir())\n",
    "print(pathtofits.exists())\n",
    "print(pathtofits)"
   ]
  },
  {
   "cell_type": "code",
   "execution_count": null,
   "metadata": {},
   "outputs": [],
   "source": [
    "# Create a list of paths to each single FITS file at once!\n",
    "myfits = sorted(pathtofits.glob('*.fits'))\n",
    "myfits"
   ]
  },
  {
   "cell_type": "markdown",
   "metadata": {},
   "source": [
    "If you want to display list of files with header keywords in a very efficient way, <span style=\"color:blue\">**dfitspy**</span> is the package you need. It comes with both a command line tool and a normal python importable package. It is important to note that <span style=\"color:blue\">**dfitspy**</span> does not access the FITS files, but it just reads the headers. "
   ]
  },
  {
   "cell_type": "code",
   "execution_count": null,
   "metadata": {},
   "outputs": [],
   "source": [
    "%%bash\n",
    "dfitspy -h"
   ]
  },
  {
   "cell_type": "code",
   "execution_count": null,
   "metadata": {},
   "outputs": [],
   "source": [
    "%%bash\n",
    "dfitspy -f fits_files_folder/*.fits -k OBJECT,FILTER"
   ]
  },
  {
   "cell_type": "markdown",
   "metadata": {},
   "source": [
    "<span style=\"color:blue\">*ImageFileCollection*</span> is a class of <span style=\"color:blue\">**ccdproc**</span> library.<br>\n",
    "The latter is an extremely useful library to reduce CCD data by detrending images, computing a bad pixel mask, creating and propagating the errors into a variance map and more! ...<br>\n",
    "... “But that is another story and shall be told another time.”\n",
    "― Michael Ende , The Neverending Story"
   ]
  },
  {
   "cell_type": "code",
   "execution_count": null,
   "metadata": {
    "collapsed": true
   },
   "outputs": [],
   "source": [
    "# Let's import the class and define a collection of FITS files\n",
    "from ccdproc import ImageFileCollection\n",
    "\n",
    "# The collection needs the FITS files location and a list of header keywords, as minimum parameters.\n",
    "images = ImageFileCollection(pathtofits,keywords=['OBJECT','FILTER'])   "
   ]
  },
  {
   "cell_type": "code",
   "execution_count": null,
   "metadata": {},
   "outputs": [],
   "source": [
    "# images.summary is a astropy Table object ... isn't it fantastic?\n",
    "type(images.summary)"
   ]
  },
  {
   "cell_type": "code",
   "execution_count": null,
   "metadata": {},
   "outputs": [],
   "source": [
    "# Show the table in a notebook ... \n",
    "images.summary.show_in_notebook()"
   ]
  },
  {
   "cell_type": "code",
   "execution_count": null,
   "metadata": {
    "collapsed": true
   },
   "outputs": [],
   "source": [
    "# ... or in a browser\n",
    "images.summary.show_in_browser()"
   ]
  },
  {
   "cell_type": "code",
   "execution_count": null,
   "metadata": {},
   "outputs": [],
   "source": [
    "# Filter the collection by object type as in the headers\n",
    "biases = images.files_filtered(object='Bias')\n",
    "for bias in biases :\n",
    "    print(bias)"
   ]
  },
  {
   "cell_type": "markdown",
   "metadata": {},
   "source": [
    "With <span style=\"color:blue\">*ImageFileCollection*</span> you can iterate into the Header Data Unit (HDU), the headers, the <span style=\"color:blue\">*CCDData*</span> objects (see below) or the data of the collection.  "
   ]
  },
  {
   "cell_type": "code",
   "execution_count": null,
   "metadata": {},
   "outputs": [],
   "source": [
    "for data in images.data() :\n",
    "    print(type(data))"
   ]
  },
  {
   "cell_type": "markdown",
   "metadata": {},
   "source": [
    "## Exercise"
   ]
  },
  {
   "cell_type": "code",
   "execution_count": null,
   "metadata": {},
   "outputs": [],
   "source": [
    "%pylab tk"
   ]
  },
  {
   "cell_type": "markdown",
   "metadata": {},
   "source": [
    "Given the convenience function to plot the images"
   ]
  },
  {
   "cell_type": "code",
   "execution_count": null,
   "metadata": {
    "collapsed": true
   },
   "outputs": [],
   "source": [
    "def plot_data (data) :\n",
    "    \n",
    "    '''\n",
    "    The function accepts an image (numpy.ndarray) as input and return a plot of it with a zscale algorithm\n",
    "    as in DS9.\n",
    "    \n",
    "    Parameters:\n",
    "    data : numpy.ndarray\n",
    "    \n",
    "    Return :\n",
    "    matplotlib.pyplot.imshow object\n",
    "    '''\n",
    "    \n",
    "    from matplotlib import pyplot as plt\n",
    "    from mpdaf.tools import zscale\n",
    "    \n",
    "    fig = plt.figure()\n",
    "    vmin, vmax = zscale(data)\n",
    "    im = plt.imshow(data, origin='lower', cmap='gray_r', vmin=vmin, vmax=vmax)\n",
    "    \n",
    "    return im"
   ]
  },
  {
   "cell_type": "markdown",
   "metadata": {},
   "source": [
    "Plot the images in the **fits_file_folder**"
   ]
  },
  {
   "cell_type": "code",
   "execution_count": null,
   "metadata": {
    "collapsed": true
   },
   "outputs": [],
   "source": []
  },
  {
   "cell_type": "markdown",
   "metadata": {},
   "source": [
    "## Working with FITS files headers"
   ]
  },
  {
   "cell_type": "markdown",
   "metadata": {},
   "source": [
    "We see a practical example where a <span style=\"color:blue\">**BinTableHDU**</span> class ([http://docs.astropy.org/en/stable/io/fits/api/tables.html](http://docs.astropy.org/en/stable/io/fits/api/tables.html)) is instantiated, out of the <span style=\"color:blue\">*images.summary*</span> table created in Section 1."
   ]
  },
  {
   "cell_type": "code",
   "execution_count": null,
   "metadata": {},
   "outputs": [],
   "source": [
    "from astropy.io import fits\n",
    "\n",
    "BinHDU = fits.BinTableHDU(images.summary, name='DATA')\n",
    "print (BinHDU)"
   ]
  },
  {
   "cell_type": "code",
   "execution_count": null,
   "metadata": {},
   "outputs": [],
   "source": [
    "print (repr(BinHDU.header))    # repr() to display the entire header as it appears in the FITS file\n",
    "# print (repr(BinHDU.data))"
   ]
  },
  {
   "cell_type": "markdown",
   "metadata": {},
   "source": [
    "Writing out the Bin Table."
   ]
  },
  {
   "cell_type": "code",
   "execution_count": null,
   "metadata": {
    "collapsed": true
   },
   "outputs": [],
   "source": [
    "# Create the path to the FITS table file\n",
    "fitspath = Path('.').joinpath('my_fits_table.fits')\n",
    "# Save it\n",
    "fits.writeto(fitspath, BinHDU.data, header=BinHDU.header, overwrite=True)\n",
    "# ... and let's open the BinHDU file again\n",
    "hdu = fits.open(fitspath)"
   ]
  },
  {
   "cell_type": "markdown",
   "metadata": {},
   "source": [
    "Look at the FITS file structure in detail."
   ]
  },
  {
   "cell_type": "code",
   "execution_count": null,
   "metadata": {},
   "outputs": [],
   "source": [
    "hdu.info()"
   ]
  },
  {
   "cell_type": "markdown",
   "metadata": {},
   "source": [
    "Reading/Writing the header cards, as the header is a python dictionary!!"
   ]
  },
  {
   "cell_type": "code",
   "execution_count": null,
   "metadata": {},
   "outputs": [],
   "source": [
    "hdr = hdu[1].header\n",
    "list(hdr.keys())"
   ]
  },
  {
   "cell_type": "code",
   "execution_count": null,
   "metadata": {},
   "outputs": [],
   "source": [
    "hdr['EXTNAME']"
   ]
  },
  {
   "cell_type": "code",
   "execution_count": null,
   "metadata": {},
   "outputs": [],
   "source": [
    "hdr['history'] = 'Test writing on April, 16th 2019'\n",
    "print (repr(hdr))"
   ]
  },
  {
   "cell_type": "markdown",
   "metadata": {},
   "source": [
    "The very useful <span style=\"color:blue\">*set*</span> method."
   ]
  },
  {
   "cell_type": "code",
   "execution_count": null,
   "metadata": {},
   "outputs": [],
   "source": [
    "hdr.set('EXTNAME2', value='MYDATA', comment='Card created during ESOpy 3.0', after='EXTNAME')\n",
    "print (repr(hdr))"
   ]
  },
  {
   "cell_type": "markdown",
   "metadata": {},
   "source": [
    "Let's now overwrite the file with the modified header (one proposed way to do it)."
   ]
  },
  {
   "cell_type": "code",
   "execution_count": null,
   "metadata": {},
   "outputs": [],
   "source": [
    "hdu[1].header = hdr\n",
    "hdu.writeto(fitspath, overwrite=True)"
   ]
  },
  {
   "cell_type": "code",
   "execution_count": null,
   "metadata": {},
   "outputs": [],
   "source": [
    "new_hdr = fits.open(fitspath)[1].header\n",
    "print(repr(new_hdr))"
   ]
  },
  {
   "cell_type": "markdown",
   "metadata": {},
   "source": [
    "## Exercise"
   ]
  },
  {
   "cell_type": "markdown",
   "metadata": {},
   "source": [
    "Access the file **NGC1087_Ha_flux_nosky_mod.fits** in **fits_file_folder** and print the main header (in the extension 0)."
   ]
  },
  {
   "cell_type": "code",
   "execution_count": null,
   "metadata": {
    "collapsed": true
   },
   "outputs": [],
   "source": []
  },
  {
   "cell_type": "markdown",
   "metadata": {},
   "source": [
    "We now access the WCS info in the header (you will need for Frederic's lecture!)"
   ]
  },
  {
   "cell_type": "code",
   "execution_count": null,
   "metadata": {},
   "outputs": [],
   "source": [
    "from astropy.wcs import WCS\n",
    "wcs = WCS(hdr)\n",
    "print(wcs)"
   ]
  },
  {
   "cell_type": "markdown",
   "metadata": {},
   "source": [
    "## Working with FITS files data"
   ]
  },
  {
   "cell_type": "markdown",
   "metadata": {},
   "source": [
    "We now briefly look at how to deal with n-dimensional arrays, e.g. images from FITS files  "
   ]
  },
  {
   "cell_type": "code",
   "execution_count": null,
   "metadata": {
    "collapsed": true
   },
   "outputs": [],
   "source": [
    "mydata = fits.open(myfile)[0].data # or --> mydata = hdu[0].data"
   ]
  },
  {
   "cell_type": "markdown",
   "metadata": {},
   "source": [
    "For instance, we can use <span style=\"color:blue\">*CCDData*</span> class. This class allows to define standard deviation map, mask, header and wcs info simply as attributes! ...<br>\n",
    "... “But that is another story and shall be told another time.”"
   ]
  },
  {
   "cell_type": "markdown",
   "metadata": {},
   "source": [
    "We only import a FITS file into a <span style=\"color:blue\">*CCDData*</span> class."
   ]
  },
  {
   "cell_type": "code",
   "execution_count": null,
   "metadata": {},
   "outputs": [],
   "source": [
    "from astropy.nddata import CCDData\n",
    "import astropy.units as u\n",
    "ccd = CCDData.read(myfile, unit=u.uJy)"
   ]
  },
  {
   "cell_type": "code",
   "execution_count": null,
   "metadata": {},
   "outputs": [],
   "source": [
    "ccd.unit"
   ]
  },
  {
   "cell_type": "code",
   "execution_count": null,
   "metadata": {},
   "outputs": [],
   "source": [
    "ccd.wcs"
   ]
  },
  {
   "cell_type": "code",
   "execution_count": null,
   "metadata": {},
   "outputs": [],
   "source": [
    "ccd.header"
   ]
  },
  {
   "cell_type": "code",
   "execution_count": null,
   "metadata": {
    "collapsed": true
   },
   "outputs": [],
   "source": [
    "ccd.uncertainty"
   ]
  },
  {
   "cell_type": "markdown",
   "metadata": {},
   "source": [
    "**Very Important!** All the image manipulations below can be done equivalently on data from FITS file or on <span style=\"color:blue\">*CCDData*</span> class."
   ]
  },
  {
   "cell_type": "code",
   "execution_count": null,
   "metadata": {},
   "outputs": [],
   "source": [
    "from astropy.nddata import Cutout2D\n",
    "from mpdaf.tools import zscale\n",
    "position = (1061, 1409)\n",
    "size = (81, 61)\n",
    "cutout = Cutout2D(ccd, position, size)    # Or equivalently --> cutout = Cutout2D(mydata, position, size)\n",
    "vmin, vmax = zscale(cutout.data)\n",
    "plt.imshow(cutout.data, origin='lower', vmin=vmin, vmax=vmax)"
   ]
  },
  {
   "cell_type": "code",
   "execution_count": null,
   "metadata": {},
   "outputs": [],
   "source": [
    "vmin, vmax = zscale(ccd.data)\n",
    "plt.imshow(ccd, origin='lower', vmin=vmin, vmax=vmax)\n",
    "cutout.plot_on_original(color='white')"
   ]
  },
  {
   "cell_type": "markdown",
   "metadata": {},
   "source": [
    "Image resizing."
   ]
  },
  {
   "cell_type": "code",
   "execution_count": null,
   "metadata": {},
   "outputs": [],
   "source": [
    "from astropy.nddata import block_reduce\n",
    "smaller = block_reduce(ccd, 16)\n",
    "vmin, vmax = zscale(smaller)\n",
    "plt.imshow(smaller, origin='lower', vmin=vmin, vmax=vmax)"
   ]
  },
  {
   "cell_type": "markdown",
   "metadata": {},
   "source": [
    "There other interesting functions of the package <span style=\"color:blue\">**astropy.nddata**</span>! ...<br>\n",
    "... “But that is another story and shall be told another time.”"
   ]
  },
  {
   "cell_type": "code",
   "execution_count": null,
   "metadata": {
    "collapsed": true
   },
   "outputs": [],
   "source": []
  },
  {
   "cell_type": "code",
   "execution_count": null,
   "metadata": {
    "collapsed": true
   },
   "outputs": [],
   "source": []
  },
  {
   "cell_type": "code",
   "execution_count": null,
   "metadata": {
    "collapsed": true
   },
   "outputs": [],
   "source": []
  },
  {
   "cell_type": "code",
   "execution_count": null,
   "metadata": {
    "collapsed": true
   },
   "outputs": [],
   "source": []
  },
  {
   "cell_type": "code",
   "execution_count": null,
   "metadata": {
    "collapsed": true
   },
   "outputs": [],
   "source": [
    "#myfile = pathtofits.joinpath('NGC1087_Ha_flux_nosky_mod.fits')\n",
    "#hdu = fits.open(myfile)\n",
    "#hdr = hdu[0].header"
   ]
  }
 ],
 "metadata": {
  "kernelspec": {
   "display_name": "Python 3",
   "language": "python",
   "name": "python3"
  },
  "language_info": {
   "codemirror_mode": {
    "name": "ipython",
    "version": 3
   },
   "file_extension": ".py",
   "mimetype": "text/x-python",
   "name": "python",
   "nbconvert_exporter": "python",
   "pygments_lexer": "ipython3",
   "version": "3.6.3"
  }
 },
 "nbformat": 4,
 "nbformat_minor": 2
}
