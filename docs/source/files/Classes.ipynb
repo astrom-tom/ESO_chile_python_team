{
 "cells": [
  {
   "cell_type": "markdown",
   "metadata": {},
   "source": [
    "# Python Object Oriented Programming (OOP)\n",
    "\n",
    "Object-Oriented programming is a widely used concept for writting powerful applications. We will try to cover the following concepts:\n",
    "\n",
    "1.  How to create a class\n",
    "2.  Instantiating objects\n",
    "3.  Adding attributes to a class\n",
    "4.  Defining methods within a class\n",
    "5.  Passing arguments to a method\n",
    "\n",
    "## Introduction\n",
    "\n",
    "Object-oriented programming is based on the imperative programming paradigm, which uses statements to change a program's state. It focuses on describing how a program should operate. Examples of imperative programming languages are C, C++, Java, Go, Ruby and Python. This stands in contrast to declarative programming, which focuses on what the computer program should accomplish, without specifying how. Examples are database query languages like SQL and XQuery, where one only tells the computer what data to query from where, but not how to do it.\n",
    "\n",
    "OOP uses the concept of objects and classes. A class can be thought of as a 'blueprint' for objects. These can have their own attributes (characteristics they possess), and methods (actions they perform).\n",
    "\n",
    "## An Example\n",
    "\n",
    "An example of a class is the class `Dog`. Don't think of it as a specific dog, or your own dog. We're describing what a dog __is__ and __can do__, in general. Dogs usually have a __name__ and __age__; these are ___instance attributes__. Dogs can also __bark__; this is a __method__.\n",
    "\n",
    "When you talk about a __specific dog__, you would have an __object__ in programming: an object is an __instantiation of a class__. This is the basic principle on which object-oriented programming is based. So my dog `Snoopy`, for example, belongs to the class `Dog`. His attributes are `name = 'Ozzy'` and `age = '2'`. _A different dog will have different attributes_.\n",
    "\n",
    "## How to create a class in python\n",
    "\n",
    "To define a class in Python, you can use the `class` keyword, followed by the class name (startin with a capital letter by convention) and a colon. Inside the class, an `__init__` method has to be defined with `def`. _This is the initializer that you can later use to instantiate objects_. `__init__` must always be present! It takes one argument: `self`, which refers to the object itself. Inside the method, the pass keyword is used as of now, because Python expects you to type something there. Remember to use correct indentation!"
   ]
  },
  {
   "cell_type": "code",
   "execution_count": 1,
   "metadata": {
    "collapsed": true
   },
   "outputs": [],
   "source": [
    "class Dog:\n",
    "\n",
    "    def __init__(self):\n",
    "        pass"
   ]
  },
  {
   "cell_type": "markdown",
   "metadata": {},
   "source": [
    "### Instantiating objects\n",
    "\n",
    "To instantiate an object, type the class name, followed by two brackets. You can assign this to a variable to keep track of the object."
   ]
  },
  {
   "cell_type": "code",
   "execution_count": 3,
   "metadata": {},
   "outputs": [
    {
     "name": "stdout",
     "output_type": "stream",
     "text": [
      "<__main__.Dog object at 0x109541cf8>\n"
     ]
    }
   ],
   "source": [
    "snoopy = Dog()\n",
    "print(snoopy)"
   ]
  },
  {
   "cell_type": "markdown",
   "metadata": {},
   "source": [
    "### Adding attributes to a class\n",
    "\n",
    "After printing snoopy, it is clear that this object is a dog. But we haven't added any attributes yet. Let's give the Dog class a `name` and `age`, by rewriting it:"
   ]
  },
  {
   "cell_type": "code",
   "execution_count": 5,
   "metadata": {
    "collapsed": true
   },
   "outputs": [],
   "source": [
    "class Dog:\n",
    "\n",
    "    def __init__(self, name, age):  \n",
    "        self.name = name\n",
    "        self.age = age"
   ]
  },
  {
   "cell_type": "markdown",
   "metadata": {},
   "source": [
    "You can see that the function now takes two arguments after `self`: `name` and `age`. These then get assigned to `self.name` and `self.age` respectively. You can now create a new snoopy object, with a name and age:"
   ]
  },
  {
   "cell_type": "code",
   "execution_count": 7,
   "metadata": {},
   "outputs": [],
   "source": [
    "snoopy = Dog(\"Snoopy\", 2)"
   ]
  },
  {
   "cell_type": "markdown",
   "metadata": {},
   "source": [
    "To access an object's attributes in Python, you can use the dot notation. This is done by typing the name of the object, followed by a dot and the attribute's name."
   ]
  },
  {
   "cell_type": "code",
   "execution_count": 13,
   "metadata": {},
   "outputs": [
    {
     "name": "stdout",
     "output_type": "stream",
     "text": [
      "Snoopy is 2 year(s) old.\n"
     ]
    }
   ],
   "source": [
    "print(snoopy.name + \" is \" + str(snoopy.age) + \" year(s) old.\")"
   ]
  },
  {
   "cell_type": "markdown",
   "metadata": {},
   "source": [
    "The `str()` function is used here to convert the __age attribute__, which is an __integer__, to a __string__, so you can use it in the `print()` function.\n",
    "\n",
    "### Define methods in a class\n",
    "\n",
    "Now that we have a `Dog` class, it does have a `name` and `age` which you can keep track of, but it doesn't actually do anything. This is where __instance methods__ come in. You can rewrite the class to now include a `bark()` method. Notice how the `def` keyword is used again, as well as the `self` argument."
   ]
  },
  {
   "cell_type": "code",
   "execution_count": 14,
   "metadata": {
    "collapsed": true
   },
   "outputs": [],
   "source": [
    "class Dog:\n",
    "\n",
    "    def __init__(self, name, age):  \n",
    "        self.name = name\n",
    "        self.age = age\n",
    "\n",
    "    def bark(self):\n",
    "        print(\"bark bark!\")"
   ]
  },
  {
   "cell_type": "markdown",
   "metadata": {},
   "source": [
    "The `bark` method can now be called using the dot notation, after instantiating a new `snoopy` object. The method should print `\"bark bark!\"` to the screen. Notice the parentheses in `.bark()`. __These are always used when calling a method__. They're empty in this case, since the bark() method does not take any arguments."
   ]
  },
  {
   "cell_type": "code",
   "execution_count": 16,
   "metadata": {},
   "outputs": [
    {
     "name": "stdout",
     "output_type": "stream",
     "text": [
      "bark bark!\n"
     ]
    }
   ],
   "source": [
    "snoopy = Dog(\"Snoopy\", 2)\n",
    "snoopy.bark()"
   ]
  },
  {
   "cell_type": "markdown",
   "metadata": {},
   "source": [
    "Recall how we printed `snoopy` earlier? The code below now implements this functionality in the `Dog` class, with the `doginfo()` method. You then instantiate some objects with different properties, and call the method on them."
   ]
  },
  {
   "cell_type": "code",
   "execution_count": 17,
   "metadata": {
    "collapsed": true
   },
   "outputs": [],
   "source": [
    "class Dog:\n",
    "\n",
    "    def __init__(self, name, age):  \n",
    "        self.name = name\n",
    "        self.age = age\n",
    "\n",
    "    def bark(self):\n",
    "        print(\"bark bark!\")\n",
    "\n",
    "    def doginfo(self):\n",
    "        print(self.name + \" is \" + str(self.age) + \" year(s) old.\")"
   ]
  },
  {
   "cell_type": "code",
   "execution_count": 18,
   "metadata": {
    "collapsed": true
   },
   "outputs": [],
   "source": [
    "snoopy = Dog(\"Snoopy\", 2)\n",
    "scooby = Dog(\"Scooby\", 12)\n",
    "goofy  = Dog(\"Goofy\", 8)"
   ]
  },
  {
   "cell_type": "code",
   "execution_count": 19,
   "metadata": {},
   "outputs": [
    {
     "name": "stdout",
     "output_type": "stream",
     "text": [
      "Snoopy is 2 year(s) old.\n",
      "Scooby is 12 year(s) old.\n",
      "Goofy is 8 year(s) old.\n"
     ]
    }
   ],
   "source": [
    "snoopy.doginfo()\n",
    "scooby.doginfo()\n",
    "goofy.doginfo()"
   ]
  },
  {
   "cell_type": "markdown",
   "metadata": {},
   "source": [
    "As you can see, you can call the `doginfo()` method on objects with the dot notation. The response now depends on which `Dog` object you are calling the method on.\n",
    "Since dogs get older, it would be nice if you could adjust their age accordingly. Snoopy just turned 3, so let's change his age."
   ]
  },
  {
   "cell_type": "code",
   "execution_count": 20,
   "metadata": {},
   "outputs": [
    {
     "name": "stdout",
     "output_type": "stream",
     "text": [
      "3\n"
     ]
    }
   ],
   "source": [
    "snoopy.age = 3\n",
    "print(snoopy.age)"
   ]
  },
  {
   "cell_type": "markdown",
   "metadata": {},
   "source": [
    "It's as easy as assigning a new value to the __attribute__. You could also implement this as a `birthday()` method in the `Dog` class:"
   ]
  },
  {
   "cell_type": "code",
   "execution_count": 21,
   "metadata": {
    "collapsed": true
   },
   "outputs": [],
   "source": [
    "class Dog:\n",
    "\n",
    "    def __init__(self, name, age):  \n",
    "        self.name = name\n",
    "        self.age = age\n",
    "\n",
    "    def bark(self):\n",
    "        print(\"bark bark!\")\n",
    "\n",
    "    def doginfo(self):\n",
    "        print(self.name + \" is \" + str(self.age) + \" year(s) old.\")\n",
    "\n",
    "    def birthday(self):\n",
    "        self.age +=1"
   ]
  },
  {
   "cell_type": "code",
   "execution_count": 22,
   "metadata": {},
   "outputs": [
    {
     "name": "stdout",
     "output_type": "stream",
     "text": [
      "2\n",
      "3\n"
     ]
    }
   ],
   "source": [
    "snoopy = Dog(\"Snoopy\", 2)\n",
    "print(snoopy.age)\n",
    "snoopy.birthday()\n",
    "print(snoopy.age)"
   ]
  },
  {
   "cell_type": "markdown",
   "metadata": {},
   "source": [
    "Now, you don't need to manually change the dog's age. whenever it is its birthday, you can just call the `birthday()` method."
   ]
  },
  {
   "cell_type": "markdown",
   "metadata": {},
   "source": [
    "### Passing arguments to methods\n",
    "\n",
    "We would like for our dogs to have a friend. This should be optional, since not all dogs are as sociable. Take a look at the `setFriend()` method below. It takes `self`, as per usual, and `friend` as arguments. In this case, friend will be another `Dog` object. Set the `self.friend` attribute to `friend`, and the `friend.friend` attribute to `self`. This means that the relationship is reciprocal; you are your friend's friend. In this case, `Goofy` will be `Snoopy`'s friend, which means that `Snoopy` automatically becomes `Goofy`'s buddy. You could also set these attributes manually, instead of defining a method, but that would require more work (writing 2 lines of code instead of 1) every time you want to set a friend. Notice that in Python, you don't need to specify of what type the argument is."
   ]
  },
  {
   "cell_type": "code",
   "execution_count": 23,
   "metadata": {
    "collapsed": true
   },
   "outputs": [],
   "source": [
    "class Dog:\n",
    "\n",
    "    def __init__(self, name, age):  \n",
    "        self.name = name\n",
    "        self.age = age\n",
    "\n",
    "    def bark(self):\n",
    "        print(\"bark bark!\")\n",
    "\n",
    "    def doginfo(self):\n",
    "        print(self.name + \" is \" + str(self.age) + \" year(s) old.\")\n",
    "\n",
    "    def birthday(self):\n",
    "        self.age +=1\n",
    "\n",
    "    def setfriend(self, friend):\n",
    "        self.friend = friend\n",
    "        friend.friend = self"
   ]
  },
  {
   "cell_type": "markdown",
   "metadata": {},
   "source": [
    "We can now call the method with the dot notation, and pass it another `Dog` object. In this case, `Snoopy`'s buddy will be `Goofy`:"
   ]
  },
  {
   "cell_type": "code",
   "execution_count": 24,
   "metadata": {
    "collapsed": true
   },
   "outputs": [],
   "source": [
    "snoopy  = Dog(\"Snoopy\", 2)\n",
    "goofy   = Dog(\"Goofy\", 8)\n",
    "\n",
    "snoopy.setfriend(goofy)"
   ]
  },
  {
   "cell_type": "markdown",
   "metadata": {},
   "source": [
    "If you now want to get some information about `Snoopy`'s friend, you can use the dot notation twice. First, to refer to `Snoopy`'s friend, and a second time to refer to its attribute/s."
   ]
  },
  {
   "cell_type": "code",
   "execution_count": 26,
   "metadata": {},
   "outputs": [
    {
     "name": "stdout",
     "output_type": "stream",
     "text": [
      "Goofy\n",
      "8\n",
      "Snoopy\n"
     ]
    }
   ],
   "source": [
    "print(snoopy.friend.name)\n",
    "print(snoopy.friend.age)\n",
    "print(goofy.friend.name)"
   ]
  },
  {
   "cell_type": "markdown",
   "metadata": {},
   "source": [
    "The friend's methods can also be called. The `self` argument that gets passed to `doginfo()` is now `snoopy.friend`, which is `goofy`."
   ]
  },
  {
   "cell_type": "code",
   "execution_count": 27,
   "metadata": {},
   "outputs": [
    {
     "name": "stdout",
     "output_type": "stream",
     "text": [
      "Goofy is 8 year(s) old.\n"
     ]
    }
   ],
   "source": [
    "snoopy.friend.doginfo()"
   ]
  },
  {
   "cell_type": "markdown",
   "metadata": {
    "collapsed": true
   },
   "source": [
    "## Exercise\n",
    "\n",
    "1.  Write a python class that calculates area and perimeter of a Circle (HINT: two separate methods), given a specific radius (HINT: its attribute).\n",
    "\n",
    "2.  Write a python class that looks at a FORS2 pipeline-reduced image (an example provided for testing), reads the requested image quality (IQ) by the user, compares it to the pipeline measured IQ and gives a grade to the frame.\n",
    "[HINTS: to read fits files in python the most commonly used module is `astropy`, namely its method `io.fits.open()`, where its `.header` attribute gives you access to the fits header.]\n",
    "[HINTS: the header keyword for the user-requested maximum seeing is `ESO OBS AMBI FWHM`]\n",
    "[HINTS: the header keyword for the pipeline-calculated IQ is `ESO QC IMGQU`]"
   ]
  }
 ],
 "metadata": {
  "kernelspec": {
   "display_name": "Python 3",
   "language": "python",
   "name": "python3"
  },
  "language_info": {
   "codemirror_mode": {
    "name": "ipython",
    "version": 3
   },
   "file_extension": ".py",
   "mimetype": "text/x-python",
   "name": "python",
   "nbconvert_exporter": "python",
   "pygments_lexer": "ipython3",
   "version": "3.6.3"
  }
 },
 "nbformat": 4,
 "nbformat_minor": 2
}
