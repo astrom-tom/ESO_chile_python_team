{
 "metadata": {
  "name": "",
  "signature": "sha256:f6cfdee99b9f3c168e86b3494ceb6aa3691c1530fe73ef363c4b296b4651e28f"
 },
 "nbformat": 3,
 "nbformat_minor": 0,
 "worksheets": [
  {
   "cells": [
    {
     "cell_type": "markdown",
     "metadata": {},
     "source": [
      "# Python Functions Tutorial\n",
      "Functions are an essential part of Python. You\u2019ll constantly need to write your own functions to solve problems that your data poses to you. During this brief lesson we will try to cover as much of these given topics as possible:\n",
      "\n",
      "1. Functions vs. Methods\n",
      "2. Parameters vs. Arguments\n",
      "3. How to define a function?\n",
      "    4. The return statment\n",
      "    5. How to call a function\n",
      "    6. How to add Docstrings to a python function\n",
      "    7. Function arguments in python\n",
      "    8. Global vs. Local variables\n",
      "    \n",
      "There are three types of functions in Python:\n",
      "-  __Built-in functions__, such as `help()` to ask for help, `min()` to get the minimum value, `print()` to print an object to the terminal\n",
      "-  __User-Defined Functions__, which are functions that users create\n",
      "-  __Anonymous functions__, which are also called __lambda functions__ because they are not declared with the standard `def` keyword.\n",
      "\n",
      "## Functions vs. Methods\n",
      "\n",
      "A `method` refers to a function which is part of a `class` (to be explained later). You access it with an `instance` or `object` of the class. A function doesn\u2019t have this restriction: it just refers to a standalone function. This means that all methods are functions, but not all functions are methods.\n",
      "\n",
      "Lets consider this example, where you first define a function `plus()` and then a Summation class with a `sum()` method:"
     ]
    },
    {
     "cell_type": "code",
     "collapsed": false,
     "input": [
      "# Define a function `plus()`\n",
      "def plus(a,b):\n",
      "  return a + b\n",
      "  \n",
      "# Create a `Summation` class\n",
      "class Summation(object):\n",
      "  def sum(self, a, b):          #the `self` parameter is just a universally accepted name we all use. Nothing special.\n",
      "    self.contents = a + b\n",
      "    return self.contents "
     ],
     "language": "python",
     "metadata": {},
     "outputs": [],
     "prompt_number": 1
    },
    {
     "cell_type": "code",
     "collapsed": false,
     "input": [
      "print(plus(2,3))\n",
      "sumInstance = Summation()               #Creating an instance of the Summation class\n",
      "print(sumInstance.sum(2,5))"
     ],
     "language": "python",
     "metadata": {},
     "outputs": [
      {
       "output_type": "stream",
       "stream": "stdout",
       "text": [
        "5\n",
        "7\n"
       ]
      }
     ],
     "prompt_number": 2
    },
    {
     "cell_type": "markdown",
     "metadata": {},
     "source": [
      "## Parameters vs Arguments\n",
      "\n",
      "Parameters are the names used when defining a function or a method, and into which arguments will be mapped. In other words, arguments are the things which are supplied to any function or method call, while the function or method code refers to the arguments by their parameter names.\n",
      "\n",
      "Consider the following example and look back to the above code: you pass two *arguments* to the `sum()` method of the Summation `class`, even though you previously defined three parameters, namely, `self`, `a` and `b`.\n",
      "\n",
      "What happened to `self`?\n",
      "\n",
      "The first argument of every class method is always a reference to the current instance of the class, which in this case is `Summation`. By convention, this argument is called `self`, but there is nothing special about this name.\n",
      "\n",
      "This all means that you don\u2019t pass the reference to self in this case because self is the parameter name for an implicitly passed argument that refers to the instance through which a method is being invoked. It gets inserted implicitly into the argument list."
     ]
    },
    {
     "cell_type": "markdown",
     "metadata": {},
     "source": [
      "## How to define a function -- User-Defined Functions\n",
      "\n",
      "The four steps to defining a function in Python are the following:\n",
      "\n",
      "1.  Use the keyword `def` to declare the function and follow this up with the function name.\n",
      "2.  Add parameters to the function: they should be within the parentheses of the function. End your line with a colon.\n",
      "3.  Add statements that the functions should execute.\n",
      "4.  End your function with a `return` statement if the function should output something. Without the `return` statement, your function will return an object `None`."
     ]
    },
    {
     "cell_type": "code",
     "collapsed": false,
     "input": [
      "def hello():\n",
      "  my_text = \"Hello World\" \n",
      "  return my_text"
     ],
     "language": "python",
     "metadata": {},
     "outputs": [],
     "prompt_number": 37
    },
    {
     "cell_type": "code",
     "collapsed": false,
     "input": [
      "print(hello())\n",
      "type(hello())"
     ],
     "language": "python",
     "metadata": {},
     "outputs": [
      {
       "output_type": "stream",
       "stream": "stdout",
       "text": [
        "Hello World\n"
       ]
      },
      {
       "metadata": {},
       "output_type": "pyout",
       "prompt_number": 38,
       "text": [
        "str"
       ]
      }
     ],
     "prompt_number": 38
    },
    {
     "cell_type": "markdown",
     "metadata": {},
     "source": [
      "### The `return` Statement\n",
      "\n",
      "Note that as you\u2019re printing something in your user-defined function `hello()`, you don\u2019t really need to `return` it. There won\u2019t be any difference between the function above and this one:"
     ]
    },
    {
     "cell_type": "code",
     "collapsed": false,
     "input": [
      "def hello_noreturn():\n",
      "  print(\"Hello World\")"
     ],
     "language": "python",
     "metadata": {},
     "outputs": [],
     "prompt_number": 39
    },
    {
     "cell_type": "code",
     "collapsed": false,
     "input": [
      "print(hello_noreturn())\n",
      "type(hello_noreturn())"
     ],
     "language": "python",
     "metadata": {},
     "outputs": [
      {
       "output_type": "stream",
       "stream": "stdout",
       "text": [
        "Hello World\n",
        "None\n",
        "Hello World\n"
       ]
      },
      {
       "metadata": {},
       "output_type": "pyout",
       "prompt_number": 40,
       "text": [
        "NoneType"
       ]
      }
     ],
     "prompt_number": 40
    },
    {
     "cell_type": "markdown",
     "metadata": {},
     "source": [
      "However, if you want to continue to work with the result of your function and try out some operations on it, you will need to use the `return` statement to actually return a value, such as a `String`, an `integer`, \u2026. Consider performing a simple of operation of doubling of the output of each function:"
     ]
    },
    {
     "cell_type": "code",
     "collapsed": false,
     "input": [
      "hello() * 2\n",
      "hello_noreturn() * 2"
     ],
     "language": "python",
     "metadata": {},
     "outputs": [
      {
       "output_type": "stream",
       "stream": "stdout",
       "text": [
        "Hello World\n"
       ]
      },
      {
       "ename": "TypeError",
       "evalue": "unsupported operand type(s) for *: 'NoneType' and 'int'",
       "output_type": "pyerr",
       "traceback": [
        "\u001b[0;31m---------------------------------------------------------------------------\u001b[0m\n\u001b[0;31mTypeError\u001b[0m                                 Traceback (most recent call last)",
        "\u001b[0;32m<ipython-input-42-2593743868c1>\u001b[0m in \u001b[0;36m<module>\u001b[0;34m()\u001b[0m\n\u001b[1;32m      1\u001b[0m \u001b[0mhello\u001b[0m\u001b[0;34m(\u001b[0m\u001b[0;34m)\u001b[0m \u001b[0;34m*\u001b[0m \u001b[0;36m2\u001b[0m\u001b[0;34m\u001b[0m\u001b[0m\n\u001b[0;32m----> 2\u001b[0;31m \u001b[0mhello_noreturn\u001b[0m\u001b[0;34m(\u001b[0m\u001b[0;34m)\u001b[0m \u001b[0;34m*\u001b[0m \u001b[0;36m2\u001b[0m\u001b[0;34m\u001b[0m\u001b[0m\n\u001b[0m",
        "\u001b[0;31mTypeError\u001b[0m: unsupported operand type(s) for *: 'NoneType' and 'int'"
       ]
      }
     ],
     "prompt_number": 42
    },
    {
     "cell_type": "markdown",
     "metadata": {},
     "source": [
      "The second function gives you an error because you can\u2019t perform any operations with a `None`. You get a `TypeError` that says that you can\u2019t do the multiplication operation for `NoneType` (the `None` that is the result of `hello_noreturn()`) and `int` (2).\n",
      "\n",
      "Another thing that is worth mentioning when you\u2019re working with the `return` statement is the fact that you can use it to return multiple values. To do this, you make use of `tuples` (as described by Ivan). You construct it with the help of double parentheses `()`. You can unpack tuples into multiple variables with the help of the comma and the assignment operator."
     ]
    },
    {
     "cell_type": "code",
     "collapsed": false,
     "input": [
      "# Define `plus()`\n",
      "def plus(a,b):\n",
      "  sum = a + b\n",
      "  return (sum, a)\n",
      "\n",
      "# Call `plus()` and unpack variables \n",
      "sum, a = plus(3,4)\n",
      "\n",
      "# Print `sum()`\n",
      "print(sum)"
     ],
     "language": "python",
     "metadata": {},
     "outputs": [
      {
       "output_type": "stream",
       "stream": "stdout",
       "text": [
        "7\n"
       ]
      }
     ],
     "prompt_number": 43
    },
    {
     "cell_type": "markdown",
     "metadata": {},
     "source": [
      "Note that the `return` statement `return sum,a` would have the same result as `return (sum, a)`: the former actually packs `sum` and a into a tuple under the hood!\n",
      "\n",
      "## How to call a function\n",
      "\n",
      "Previously we have seen a lot of examples already of how to call a function. Calling a function means that you execute the function that you have defined - either directly from the Python prompt or through another function (\u201cNested Functions\u201d)."
     ]
    },
    {
     "cell_type": "code",
     "collapsed": false,
     "input": [
      "hello()"
     ],
     "language": "python",
     "metadata": {},
     "outputs": [
      {
       "metadata": {},
       "output_type": "pyout",
       "prompt_number": 44,
       "text": [
        "'Hello World'"
       ]
      }
     ],
     "prompt_number": 44
    },
    {
     "cell_type": "markdown",
     "metadata": {},
     "source": [
      "## How To Add Docstrings To A Python Function\n",
      "\n",
      "Another essential aspect of writing functions in Python: docstrings. Docstrings describe what your function does, such as the computations it performs or its return values. These descriptions serve as documentation for your function so that anyone who reads your function\u2019s docstring understands what your function does, without having to trace through all the code in the function definition.\n",
      "\n",
      "Function docstrings are placed in the immediate line after the function header and are placed in between triple quotation marks. An appropriate Docstring for your hello() function is \u2018Prints \u201cHello World\u201d\u2019."
     ]
    },
    {
     "cell_type": "code",
     "collapsed": false,
     "input": [
      "def hello():\n",
      "    \"\"\"Prints \"Hello World\".\n",
      "    \n",
      "    Returns:\n",
      "        None\n",
      "    \"\"\"\n",
      "    my_text = \"Hello World\" \n",
      "    return my_text"
     ],
     "language": "python",
     "metadata": {},
     "outputs": [],
     "prompt_number": 47
    },
    {
     "cell_type": "code",
     "collapsed": false,
     "input": [
      "help(hello)"
     ],
     "language": "python",
     "metadata": {},
     "outputs": [
      {
       "output_type": "stream",
       "stream": "stdout",
       "text": [
        "Help on function hello in module __main__:\n",
        "\n",
        "hello()\n",
        "    Prints \"Hello World\".\n",
        "    \n",
        "    Returns:\n",
        "        None\n",
        "\n"
       ]
      }
     ],
     "prompt_number": 51
    },
    {
     "cell_type": "markdown",
     "metadata": {},
     "source": [
      "## Function Arguments in Python\n",
      "\n",
      "Earlier, we learned about the difference between parameters and arguments. In short, arguments are the things which are given to any function or method call, while the function or method code refers to the arguments by their parameter names. There are four types of arguments that Python user-defined functions can take:\n",
      "\n",
      "1. Default arguments\n",
      "2. Required arguments\n",
      "3. Keyword arguments\n",
      "4. Variable number of arguments"
     ]
    },
    {
     "cell_type": "markdown",
     "metadata": {},
     "source": [
      "### Default Arguments\n",
      "\n",
      "Default arguments are those that take a default value if no argument value is passed during the function call. You can assign this default value by with the assignment operator `=`:"
     ]
    },
    {
     "cell_type": "code",
     "collapsed": false,
     "input": [
      "def plus(a=2, b=3):\n",
      "  return a + b\n",
      "print('With default values ', plus())\n",
      "print('Changing `a` only ', plus(a=3))\n",
      "print('Changing `b` only ', plus(b=5))\n",
      "print('Changing `a` AND `b` ', plus(a=6,b=9))"
     ],
     "language": "python",
     "metadata": {},
     "outputs": [
      {
       "output_type": "stream",
       "stream": "stdout",
       "text": [
        "('With default values ', 5)\n",
        "('Changing `a` only ', 6)\n",
        "('Changing `b` only ', 7)\n",
        "('Changing `a` AND `b` ', 15)\n"
       ]
      }
     ],
     "prompt_number": 73
    },
    {
     "cell_type": "markdown",
     "metadata": {},
     "source": [
      "### Required Arguments\n",
      "\n",
      "As the name suggests, the required arguments of a user-defined functions are those that have to be in there. These arguments need to be passed during the function call and in precisely the right order, just like in the following example:"
     ]
    },
    {
     "cell_type": "code",
     "collapsed": false,
     "input": [
      "def power(a,b):\n",
      "    \"\"\"Calculates a power.\n",
      "    \n",
      "    Arguments:\n",
      "        a = float\n",
      "        b = float\n",
      "    \n",
      "    Returns:\n",
      "        a to the power of b, float.\n",
      "    \"\"\"\n",
      "    return a ** b\n",
      "\n",
      "print(power(2.1,3.9))\n",
      "print(power(3.9,2.1))               #order matters!!! Assumes that the first one is a, and the second is b.\n",
      "print(power(1.9))"
     ],
     "language": "python",
     "metadata": {},
     "outputs": [
      {
       "output_type": "stream",
       "stream": "stdout",
       "text": [
        "18.057401289\n",
        "17.4275234087\n"
       ]
      },
      {
       "ename": "TypeError",
       "evalue": "power() takes exactly 2 arguments (1 given)",
       "output_type": "pyerr",
       "traceback": [
        "\u001b[0;31m---------------------------------------------------------------------------\u001b[0m\n\u001b[0;31mTypeError\u001b[0m                                 Traceback (most recent call last)",
        "\u001b[0;32m<ipython-input-74-8c7e86ef1042>\u001b[0m in \u001b[0;36m<module>\u001b[0;34m()\u001b[0m\n\u001b[1;32m     13\u001b[0m \u001b[0;32mprint\u001b[0m\u001b[0;34m(\u001b[0m\u001b[0mpower\u001b[0m\u001b[0;34m(\u001b[0m\u001b[0;36m2.1\u001b[0m\u001b[0;34m,\u001b[0m\u001b[0;36m3.9\u001b[0m\u001b[0;34m)\u001b[0m\u001b[0;34m)\u001b[0m\u001b[0;34m\u001b[0m\u001b[0m\n\u001b[1;32m     14\u001b[0m \u001b[0;32mprint\u001b[0m\u001b[0;34m(\u001b[0m\u001b[0mpower\u001b[0m\u001b[0;34m(\u001b[0m\u001b[0;36m3.9\u001b[0m\u001b[0;34m,\u001b[0m\u001b[0;36m2.1\u001b[0m\u001b[0;34m)\u001b[0m\u001b[0;34m)\u001b[0m               \u001b[0;31m#order matters!!! Assumes that the first one is a, and the second is b.\u001b[0m\u001b[0;34m\u001b[0m\u001b[0m\n\u001b[0;32m---> 15\u001b[0;31m \u001b[0;32mprint\u001b[0m\u001b[0;34m(\u001b[0m\u001b[0mpower\u001b[0m\u001b[0;34m(\u001b[0m\u001b[0;36m1.9\u001b[0m\u001b[0;34m)\u001b[0m\u001b[0;34m)\u001b[0m\u001b[0;34m\u001b[0m\u001b[0m\n\u001b[0m",
        "\u001b[0;31mTypeError\u001b[0m: power() takes exactly 2 arguments (1 given)"
       ]
      }
     ],
     "prompt_number": 74
    },
    {
     "cell_type": "markdown",
     "metadata": {},
     "source": [
      "### Keyword Arguments\n",
      "\n",
      "If you want to make sure that you call all the parameters in the right order, you can use the keyword arguments in your function call. You use these to identify the arguments by their parameter name. Let\u2019s take the example from above to make this a bit more clear:"
     ]
    },
    {
     "cell_type": "code",
     "collapsed": false,
     "input": [
      "print(power(2.1,3.9))\n",
      "print(power(b=3.9,a=2.1))"
     ],
     "language": "python",
     "metadata": {},
     "outputs": [
      {
       "output_type": "stream",
       "stream": "stdout",
       "text": [
        "18.057401289\n",
        "18.057401289\n"
       ]
      }
     ],
     "prompt_number": 75
    },
    {
     "cell_type": "markdown",
     "metadata": {},
     "source": [
      "### Variable Number of Arguments\n",
      "\n",
      "In cases where you don\u2019t know the exact number of arguments that you want to pass to a function, you can use the following syntax with `*args`:"
     ]
    },
    {
     "cell_type": "code",
     "collapsed": false,
     "input": [
      "# Define `summation()` function to accept a variable number of arguments\n",
      "import numpy as np\n",
      "def summation(*args):\n",
      "  return np.sum(args)\n",
      "\n",
      "# Calculate the sum\n",
      "print(summation(1,4,5))"
     ],
     "language": "python",
     "metadata": {},
     "outputs": [
      {
       "output_type": "stream",
       "stream": "stdout",
       "text": [
        "10\n"
       ]
      }
     ],
     "prompt_number": 84
    },
    {
     "cell_type": "markdown",
     "metadata": {},
     "source": [
      "The asterisk (`*`) is placed before the variable name that holds the values of all nonkeyword variable arguments. Note here that you might as well have passed `*varint`, `*var_int_args` or any other name to the `summation()` function.  `*args` is just a convention.\n",
      "\n",
      "Above, we used `sum` method of the `numpy` class. \n",
      "\n",
      "__Exercise__: Please write the above function without calling `numpy` or any other class or built-in function."
     ]
    },
    {
     "cell_type": "code",
     "collapsed": false,
     "input": [
      "# Define `summation()` function to accept a variable number of arguments\n",
      "def summation(*args):\n",
      "  total = 0\n",
      "  for i in args:\n",
      "    total += i\n",
      "  return total\n",
      "\n",
      "# Calculate the sum  \n",
      "summation(20,30,40,50)"
     ],
     "language": "python",
     "metadata": {},
     "outputs": [
      {
       "metadata": {},
       "output_type": "pyout",
       "prompt_number": 85,
       "text": [
        "140"
       ]
      }
     ],
     "prompt_number": 85
    },
    {
     "cell_type": "markdown",
     "metadata": {},
     "source": [
      "### Global vs Local Variables\n",
      "\n",
      "In general, variables that are defined inside a function body have a local scope, and those defined outside have a global scope. That means that local variables are defined within a function block and can only be accessed inside that function, while global variables can be obtained by all functions that might be in your script:"
     ]
    },
    {
     "cell_type": "code",
     "collapsed": false,
     "input": [
      "# Global variable `init`\n",
      "init = 1\n",
      "\n",
      "# Define `summation()` function to accept a variable number of arguments\n",
      "def summation(*args):\n",
      "  # Local variable `sum()`\n",
      "  total = 0\n",
      "  for i in args:\n",
      "    total += i\n",
      "  return total\n",
      "  \n",
      "# Access the global variable\n",
      "print(\"this is the initialized value \" + str(init))\n",
      "\n",
      "# (Try to) access the local variable\n",
      "print(\"this is the sum \" + str(total))"
     ],
     "language": "python",
     "metadata": {},
     "outputs": [
      {
       "output_type": "stream",
       "stream": "stdout",
       "text": [
        "this is the initialized value 1\n"
       ]
      },
      {
       "ename": "NameError",
       "evalue": "name 'total' is not defined",
       "output_type": "pyerr",
       "traceback": [
        "\u001b[0;31m---------------------------------------------------------------------------\u001b[0m\n\u001b[0;31mNameError\u001b[0m                                 Traceback (most recent call last)",
        "\u001b[0;32m<ipython-input-87-6c8ca68c629c>\u001b[0m in \u001b[0;36m<module>\u001b[0;34m()\u001b[0m\n\u001b[1;32m     14\u001b[0m \u001b[0;34m\u001b[0m\u001b[0m\n\u001b[1;32m     15\u001b[0m \u001b[0;31m# (Try to) access the local variable\u001b[0m\u001b[0;34m\u001b[0m\u001b[0;34m\u001b[0m\u001b[0m\n\u001b[0;32m---> 16\u001b[0;31m \u001b[0;32mprint\u001b[0m\u001b[0;34m(\u001b[0m\u001b[0;34m\"this is the sum \"\u001b[0m \u001b[0;34m+\u001b[0m \u001b[0mstr\u001b[0m\u001b[0;34m(\u001b[0m\u001b[0mtotal\u001b[0m\u001b[0;34m)\u001b[0m\u001b[0;34m)\u001b[0m\u001b[0;34m\u001b[0m\u001b[0m\n\u001b[0m",
        "\u001b[0;31mNameError\u001b[0m: name 'total' is not defined"
       ]
      }
     ],
     "prompt_number": 87
    },
    {
     "cell_type": "markdown",
     "metadata": {},
     "source": [
      "You\u2019ll see that you\u2019ll get a `NameError` that says that the `name 'total' is not defined` when you try to print out the local variable `total` that was defined inside the function body. The `init` variable, on the other hand, can be printed out without any problems."
     ]
    },
    {
     "cell_type": "markdown",
     "metadata": {},
     "source": [
      "## Anonymous Functions in Python\n",
      "\n",
      "Anonymous functions are also called `lambda` functions in Python because instead of declaring them with the standard `def` keyword, you use the `lambda` keyword."
     ]
    },
    {
     "cell_type": "code",
     "collapsed": false,
     "input": [
      "double = lambda x: x*2\n",
      "\n",
      "double(5)"
     ],
     "language": "python",
     "metadata": {},
     "outputs": [
      {
       "metadata": {},
       "output_type": "pyout",
       "prompt_number": 88,
       "text": [
        "10"
       ]
      }
     ],
     "prompt_number": 88
    },
    {
     "cell_type": "markdown",
     "metadata": {},
     "source": [
      "Here `lambda x: x*2` is the `anonymous` or `lambda` function. `x` is the argument, and `x*2` is the expression or instruction that gets evaluated and returned. What\u2019s special about this function is that it has no name, like the examples that you have seen in the first part of this functions tutorial. If you had to write the above function in a user-defined function, the result would be the following:"
     ]
    },
    {
     "cell_type": "code",
     "collapsed": false,
     "input": [
      "def double(x):\n",
      "  return x*2"
     ],
     "language": "python",
     "metadata": {},
     "outputs": [],
     "prompt_number": 89
    },
    {
     "cell_type": "markdown",
     "metadata": {},
     "source": [
      "Let\u2019s consider another example of a lambda function where you work with two arguments:"
     ]
    },
    {
     "cell_type": "code",
     "collapsed": false,
     "input": [
      "# `sum()` lambda function\n",
      "add = lambda x, y: x + y;\n",
      "\n",
      "# Call the `sum()` anonymous function\n",
      "print(add(4,5))\n",
      "\n",
      "# \"Translate\" to a User-Defined Function\n",
      "def add(x, y):\n",
      "  return x+y"
     ],
     "language": "python",
     "metadata": {},
     "outputs": [
      {
       "output_type": "stream",
       "stream": "stdout",
       "text": [
        "9\n"
       ]
      }
     ],
     "prompt_number": 94
    },
    {
     "cell_type": "markdown",
     "metadata": {},
     "source": [
      "You use anonymous functions when you require a nameless function for a short period of time, and that is created at runtime. Specific contexts in which this would be relevant is when you\u2019re working with `filter()` or `map()` for instance:"
     ]
    },
    {
     "cell_type": "code",
     "collapsed": false,
     "input": [
      "my_list = [1,2,3,4,5,6,7,8,9,10]\n",
      "\n",
      "# Use lambda function with `filter()`\n",
      "filtered_list = list(filter(lambda x: (x*2 > 10), my_list))\n",
      "\n",
      "# Use lambda function with `map()`\n",
      "mapped_list = list(map(lambda x: x*2, my_list))\n",
      "\n",
      "print(filtered_list)\n",
      "print(mapped_list)"
     ],
     "language": "python",
     "metadata": {},
     "outputs": [
      {
       "output_type": "stream",
       "stream": "stdout",
       "text": [
        "[6, 7, 8, 9, 10]\n",
        "[2, 4, 6, 8, 10, 12, 14, 16, 18, 20]\n"
       ]
      }
     ],
     "prompt_number": 95
    },
    {
     "cell_type": "markdown",
     "metadata": {},
     "source": [
      "The `filter()` function filters, as the name suggests, the original input list `my_list` on the basis of a criterion `>10`. With `map()`, on the other hand, you apply a function to all items of the list `my_list`. In this case, you multiply all elements with 2."
     ]
    },
    {
     "cell_type": "markdown",
     "metadata": {},
     "source": [
      "### Exercise\n",
      "\n",
      "Write a function to define a Gaussian function.  Use it to plot such a function. \n",
      "\n",
      "$ f(x) = a ~ exp^\\frac{-(x-mu)^2}{2\\sigma^2} $"
     ]
    },
    {
     "cell_type": "markdown",
     "metadata": {},
     "source": [
      "# (Bonus material) Using `main()` as a Function\n",
      "\n",
      "If you have any experience with other programming languages such as Java, you\u2019ll know that the `main` function is required to execute functions. As you have seen in the examples above, this is not necessarily needed for Python. However, including a `main()` function in your Python program can be handy to structure your code logically - all of the most important components are contained within this `main()` function.\n",
      "\n",
      "You can easily define a `main()` function and call it just like you have done with all of the other functions above:"
     ]
    },
    {
     "cell_type": "code",
     "collapsed": false,
     "input": [
      "# Define `main()` function\n",
      "def main():\n",
      "  hello()\n",
      "  print(\"This is a main function\")\n",
      "\n",
      "main()"
     ],
     "language": "python",
     "metadata": {},
     "outputs": [
      {
       "output_type": "stream",
       "stream": "stdout",
       "text": [
        "This is a main function\n"
       ]
      }
     ],
     "prompt_number": 96
    },
    {
     "cell_type": "markdown",
     "metadata": {},
     "source": [
      "However, as it stands now, the code of your `main()` function will be called when you import it as a module. To make sure that this doesn\u2019t happen, you call the `main()` function when `__name__ == '__main__'`.\n",
      "That means that the code of the above code chunk becomes:"
     ]
    },
    {
     "cell_type": "code",
     "collapsed": false,
     "input": [
      "# Define `main()` function\n",
      "def main():\n",
      "  hello()\n",
      "  print(\"This is a main function\")\n",
      "  \n",
      "# Execute `main()` function \n",
      "if __name__ == '__main__':\n",
      "    main()"
     ],
     "language": "python",
     "metadata": {},
     "outputs": [
      {
       "output_type": "stream",
       "stream": "stdout",
       "text": [
        "This is a main function\n"
       ]
      }
     ],
     "prompt_number": 97
    },
    {
     "cell_type": "markdown",
     "metadata": {},
     "source": [
      "Note that besides the `__main__` function, you also have an `__init__` function that initializes an instance of a class or an object. Simply stated, it acts as a constructor or initializer and is automatically called when you create a new instance of a class. With that function, the newly created object is assigned to the parameter self, which you saw earlier in this tutorial. Take a look at the following example:"
     ]
    },
    {
     "cell_type": "code",
     "collapsed": false,
     "input": [
      "class Dog:\n",
      "    \"\"\"    \n",
      "    Requires:\n",
      "    legs - Legs so that the dog can walk.\n",
      "    color - A color of the fur.\n",
      "    \"\"\"\n",
      "\n",
      "    def __init__(self, legs, color):\n",
      "        self.legs = legs\n",
      "        self.color = color\n",
      "        \n",
      "    def bark(self):\n",
      "        bark = \"bark\" * 2\n",
      "        return bark\n",
      "\n",
      "if __name__ == \"__main__\":\n",
      "    dog = Dog(4, \"brown\")\n",
      "    bark = dog.bark()\n",
      "    print(bark)"
     ],
     "language": "python",
     "metadata": {},
     "outputs": [
      {
       "output_type": "stream",
       "stream": "stdout",
       "text": [
        "barkbark\n"
       ]
      }
     ],
     "prompt_number": 98
    },
    {
     "cell_type": "code",
     "collapsed": false,
     "input": [],
     "language": "python",
     "metadata": {},
     "outputs": []
    }
   ],
   "metadata": {}
  }
 ]
}